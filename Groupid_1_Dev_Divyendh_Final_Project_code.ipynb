{
  "nbformat": 4,
  "nbformat_minor": 0,
  "metadata": {
    "colab": {
      "provenance": [],
      "gpuType": "A100"
    },
    "kernelspec": {
      "name": "python3",
      "display_name": "Python 3"
    },
    "language_info": {
      "name": "python"
    },
    "accelerator": "GPU"
  },
  "cells": [
    {
      "cell_type": "markdown",
      "source": [
        "##Project Report"
      ],
      "metadata": {
        "id": "qsqVagxPP2Ez"
      }
    },
    {
      "cell_type": "code",
      "execution_count": null,
      "metadata": {
        "colab": {
          "base_uri": "https://localhost:8080/"
        },
        "id": "DwZxFyfOi1bM",
        "outputId": "97437317-5d75-4ac7-aa46-64ea348e6800"
      },
      "outputs": [
        {
          "output_type": "stream",
          "name": "stdout",
          "text": [
            "Using device: cuda\n"
          ]
        }
      ],
      "source": [
        "import torch\n",
        "from torch.utils.data import DataLoader, Dataset, random_split, Subset\n",
        "import torchvision\n",
        "from torchvision import transforms\n",
        "import numpy as np\n",
        "import os\n",
        "import requests\n",
        "\n",
        "# Check device\n",
        "DEVICE = 'cuda' if torch.cuda.is_available() else 'cpu'\n",
        "print(\"Using device:\", DEVICE)\n"
      ]
    },
    {
      "cell_type": "markdown",
      "source": [
        "#Setting up CIFAR - 10 Dataset"
      ],
      "metadata": {
        "id": "r51cs4Lai5yN"
      }
    },
    {
      "cell_type": "markdown",
      "source": [
        "#Getting the train and test data"
      ],
      "metadata": {
        "id": "MSmxU97jjxCC"
      }
    },
    {
      "cell_type": "code",
      "source": [
        "# Normalization transformation for CIFAR-10\n",
        "normalize = transforms.Compose([\n",
        "    transforms.ToTensor(),\n",
        "    transforms.Normalize((0.4914, 0.4822, 0.4465), (0.2023, 0.1994, 0.2010)),\n",
        "])\n",
        "\n",
        "# Training set\n",
        "train_set = torchvision.datasets.CIFAR10(\n",
        "    root='./data', train=True, download=True, transform=normalize\n",
        ")\n",
        "train_loader = DataLoader(train_set, batch_size=128, shuffle=True, num_workers=2)\n",
        "\n",
        "#Teset set\n",
        "test_set = torchvision.datasets.CIFAR10(\n",
        "    root='./data', train=False, download=True, transform=normalize\n",
        ")\n"
      ],
      "metadata": {
        "colab": {
          "base_uri": "https://localhost:8080/"
        },
        "id": "Fu4PcAUWi44p",
        "outputId": "21767e70-f2d3-43ea-8f45-7600190090e4"
      },
      "execution_count": null,
      "outputs": [
        {
          "output_type": "stream",
          "name": "stdout",
          "text": [
            "Downloading https://www.cs.toronto.edu/~kriz/cifar-10-python.tar.gz to ./data/cifar-10-python.tar.gz\n"
          ]
        },
        {
          "output_type": "stream",
          "name": "stderr",
          "text": [
            "100%|██████████| 170M/170M [00:02<00:00, 72.1MB/s]\n"
          ]
        },
        {
          "output_type": "stream",
          "name": "stdout",
          "text": [
            "Extracting ./data/cifar-10-python.tar.gz to ./data\n",
            "Files already downloaded and verified\n"
          ]
        }
      ]
    },
    {
      "cell_type": "markdown",
      "source": [
        "Spliting Test set to Validation and test set"
      ],
      "metadata": {
        "id": "hAJya6c9j1yD"
      }
    },
    {
      "cell_type": "code",
      "source": [
        "# Split test set into validation and test sets (50% each)\n",
        "RNG = torch.Generator().manual_seed(42)\n",
        "val_size = len(test_set) // 2\n",
        "test_size = len(test_set) - val_size\n",
        "val_set, test_set = random_split(test_set, [val_size, test_size], generator=RNG)\n",
        "\n",
        "val_loader = DataLoader(val_set, batch_size=128, shuffle=False, num_workers=2)\n",
        "test_loader = DataLoader(test_set, batch_size=128, shuffle=False, num_workers=2)\n"
      ],
      "metadata": {
        "id": "yWU8iVfPjtNY"
      },
      "execution_count": null,
      "outputs": []
    },
    {
      "cell_type": "markdown",
      "source": [
        "#Creating the Forget set from the original Training Data"
      ],
      "metadata": {
        "id": "AsP5prjkkUaB"
      }
    },
    {
      "cell_type": "markdown",
      "source": [
        "I am using 10% of the data as forget set"
      ],
      "metadata": {
        "id": "n9OfdMAQkaK4"
      }
    },
    {
      "cell_type": "code",
      "source": [
        "# Forget ratio\n",
        "forget_ratio = 0.1\n",
        "\n",
        "num_forget = int(len(train_set) * forget_ratio)\n",
        "num_retain = len(train_set) - num_forget\n",
        "\n",
        "# Spliting the training set\n",
        "retain_set, forget_set = random_split(train_set, [num_retain, num_forget], generator=RNG)\n",
        "\n",
        "retain_loader = DataLoader(retain_set, batch_size=128, shuffle=True, num_workers=2)\n",
        "forget_loader = DataLoader(forget_set, batch_size=128, shuffle=True, num_workers=2)\n",
        "\n",
        "print(f\"Retain set size: {len(retain_set)}\")\n",
        "print(f\"Forget set size: {len(forget_set)}\")\n"
      ],
      "metadata": {
        "colab": {
          "base_uri": "https://localhost:8080/"
        },
        "id": "vB0N7PGYkQM9",
        "outputId": "fae97e39-e78b-4b12-db23-f3551b00b0d9"
      },
      "execution_count": null,
      "outputs": [
        {
          "output_type": "stream",
          "name": "stdout",
          "text": [
            "Retain set size: 45000\n",
            "Forget set size: 5000\n"
          ]
        }
      ]
    },
    {
      "cell_type": "markdown",
      "source": [
        "#ResNet-18"
      ],
      "metadata": {
        "id": "AhmGQ343n6N5"
      }
    },
    {
      "cell_type": "code",
      "source": [
        "from torchvision.models import resnet18\n",
        "local_path = \"weights_resnet18_cifar10.pth\"\n",
        "if not os.path.exists(local_path):\n",
        "    response = requests.get(\n",
        "        \"https://storage.googleapis.com/unlearning-challenge/weights_resnet18_cifar10.pth\"\n",
        "    )\n",
        "    open(local_path, \"wb\").write(response.content)\n",
        "\n",
        "weights_pretrained = torch.load(local_path, map_location=DEVICE)\n",
        "\n",
        "# load model with pre-trained weights\n",
        "model = resnet18(weights=None, num_classes=10)\n",
        "model.load_state_dict(weights_pretrained)\n",
        "model.to(DEVICE)"
      ],
      "metadata": {
        "colab": {
          "base_uri": "https://localhost:8080/"
        },
        "id": "GhkbITpooS7Y",
        "outputId": "92f39397-2508-4667-f61b-fbbc1e397209"
      },
      "execution_count": null,
      "outputs": [
        {
          "output_type": "stream",
          "name": "stderr",
          "text": [
            "<ipython-input-7-b709e3d20d4d>:9: FutureWarning: You are using `torch.load` with `weights_only=False` (the current default value), which uses the default pickle module implicitly. It is possible to construct malicious pickle data which will execute arbitrary code during unpickling (See https://github.com/pytorch/pytorch/blob/main/SECURITY.md#untrusted-models for more details). In a future release, the default value for `weights_only` will be flipped to `True`. This limits the functions that could be executed during unpickling. Arbitrary objects will no longer be allowed to be loaded via this mode unless they are explicitly allowlisted by the user via `torch.serialization.add_safe_globals`. We recommend you start setting `weights_only=True` for any use case where you don't have full control of the loaded file. Please open an issue on GitHub for any issues related to this experimental feature.\n",
            "  weights_pretrained = torch.load(local_path, map_location=DEVICE)\n"
          ]
        },
        {
          "output_type": "execute_result",
          "data": {
            "text/plain": [
              "ResNet(\n",
              "  (conv1): Conv2d(3, 64, kernel_size=(7, 7), stride=(2, 2), padding=(3, 3), bias=False)\n",
              "  (bn1): BatchNorm2d(64, eps=1e-05, momentum=0.1, affine=True, track_running_stats=True)\n",
              "  (relu): ReLU(inplace=True)\n",
              "  (maxpool): MaxPool2d(kernel_size=3, stride=2, padding=1, dilation=1, ceil_mode=False)\n",
              "  (layer1): Sequential(\n",
              "    (0): BasicBlock(\n",
              "      (conv1): Conv2d(64, 64, kernel_size=(3, 3), stride=(1, 1), padding=(1, 1), bias=False)\n",
              "      (bn1): BatchNorm2d(64, eps=1e-05, momentum=0.1, affine=True, track_running_stats=True)\n",
              "      (relu): ReLU(inplace=True)\n",
              "      (conv2): Conv2d(64, 64, kernel_size=(3, 3), stride=(1, 1), padding=(1, 1), bias=False)\n",
              "      (bn2): BatchNorm2d(64, eps=1e-05, momentum=0.1, affine=True, track_running_stats=True)\n",
              "    )\n",
              "    (1): BasicBlock(\n",
              "      (conv1): Conv2d(64, 64, kernel_size=(3, 3), stride=(1, 1), padding=(1, 1), bias=False)\n",
              "      (bn1): BatchNorm2d(64, eps=1e-05, momentum=0.1, affine=True, track_running_stats=True)\n",
              "      (relu): ReLU(inplace=True)\n",
              "      (conv2): Conv2d(64, 64, kernel_size=(3, 3), stride=(1, 1), padding=(1, 1), bias=False)\n",
              "      (bn2): BatchNorm2d(64, eps=1e-05, momentum=0.1, affine=True, track_running_stats=True)\n",
              "    )\n",
              "  )\n",
              "  (layer2): Sequential(\n",
              "    (0): BasicBlock(\n",
              "      (conv1): Conv2d(64, 128, kernel_size=(3, 3), stride=(2, 2), padding=(1, 1), bias=False)\n",
              "      (bn1): BatchNorm2d(128, eps=1e-05, momentum=0.1, affine=True, track_running_stats=True)\n",
              "      (relu): ReLU(inplace=True)\n",
              "      (conv2): Conv2d(128, 128, kernel_size=(3, 3), stride=(1, 1), padding=(1, 1), bias=False)\n",
              "      (bn2): BatchNorm2d(128, eps=1e-05, momentum=0.1, affine=True, track_running_stats=True)\n",
              "      (downsample): Sequential(\n",
              "        (0): Conv2d(64, 128, kernel_size=(1, 1), stride=(2, 2), bias=False)\n",
              "        (1): BatchNorm2d(128, eps=1e-05, momentum=0.1, affine=True, track_running_stats=True)\n",
              "      )\n",
              "    )\n",
              "    (1): BasicBlock(\n",
              "      (conv1): Conv2d(128, 128, kernel_size=(3, 3), stride=(1, 1), padding=(1, 1), bias=False)\n",
              "      (bn1): BatchNorm2d(128, eps=1e-05, momentum=0.1, affine=True, track_running_stats=True)\n",
              "      (relu): ReLU(inplace=True)\n",
              "      (conv2): Conv2d(128, 128, kernel_size=(3, 3), stride=(1, 1), padding=(1, 1), bias=False)\n",
              "      (bn2): BatchNorm2d(128, eps=1e-05, momentum=0.1, affine=True, track_running_stats=True)\n",
              "    )\n",
              "  )\n",
              "  (layer3): Sequential(\n",
              "    (0): BasicBlock(\n",
              "      (conv1): Conv2d(128, 256, kernel_size=(3, 3), stride=(2, 2), padding=(1, 1), bias=False)\n",
              "      (bn1): BatchNorm2d(256, eps=1e-05, momentum=0.1, affine=True, track_running_stats=True)\n",
              "      (relu): ReLU(inplace=True)\n",
              "      (conv2): Conv2d(256, 256, kernel_size=(3, 3), stride=(1, 1), padding=(1, 1), bias=False)\n",
              "      (bn2): BatchNorm2d(256, eps=1e-05, momentum=0.1, affine=True, track_running_stats=True)\n",
              "      (downsample): Sequential(\n",
              "        (0): Conv2d(128, 256, kernel_size=(1, 1), stride=(2, 2), bias=False)\n",
              "        (1): BatchNorm2d(256, eps=1e-05, momentum=0.1, affine=True, track_running_stats=True)\n",
              "      )\n",
              "    )\n",
              "    (1): BasicBlock(\n",
              "      (conv1): Conv2d(256, 256, kernel_size=(3, 3), stride=(1, 1), padding=(1, 1), bias=False)\n",
              "      (bn1): BatchNorm2d(256, eps=1e-05, momentum=0.1, affine=True, track_running_stats=True)\n",
              "      (relu): ReLU(inplace=True)\n",
              "      (conv2): Conv2d(256, 256, kernel_size=(3, 3), stride=(1, 1), padding=(1, 1), bias=False)\n",
              "      (bn2): BatchNorm2d(256, eps=1e-05, momentum=0.1, affine=True, track_running_stats=True)\n",
              "    )\n",
              "  )\n",
              "  (layer4): Sequential(\n",
              "    (0): BasicBlock(\n",
              "      (conv1): Conv2d(256, 512, kernel_size=(3, 3), stride=(2, 2), padding=(1, 1), bias=False)\n",
              "      (bn1): BatchNorm2d(512, eps=1e-05, momentum=0.1, affine=True, track_running_stats=True)\n",
              "      (relu): ReLU(inplace=True)\n",
              "      (conv2): Conv2d(512, 512, kernel_size=(3, 3), stride=(1, 1), padding=(1, 1), bias=False)\n",
              "      (bn2): BatchNorm2d(512, eps=1e-05, momentum=0.1, affine=True, track_running_stats=True)\n",
              "      (downsample): Sequential(\n",
              "        (0): Conv2d(256, 512, kernel_size=(1, 1), stride=(2, 2), bias=False)\n",
              "        (1): BatchNorm2d(512, eps=1e-05, momentum=0.1, affine=True, track_running_stats=True)\n",
              "      )\n",
              "    )\n",
              "    (1): BasicBlock(\n",
              "      (conv1): Conv2d(512, 512, kernel_size=(3, 3), stride=(1, 1), padding=(1, 1), bias=False)\n",
              "      (bn1): BatchNorm2d(512, eps=1e-05, momentum=0.1, affine=True, track_running_stats=True)\n",
              "      (relu): ReLU(inplace=True)\n",
              "      (conv2): Conv2d(512, 512, kernel_size=(3, 3), stride=(1, 1), padding=(1, 1), bias=False)\n",
              "      (bn2): BatchNorm2d(512, eps=1e-05, momentum=0.1, affine=True, track_running_stats=True)\n",
              "    )\n",
              "  )\n",
              "  (avgpool): AdaptiveAvgPool2d(output_size=(1, 1))\n",
              "  (fc): Linear(in_features=512, out_features=10, bias=True)\n",
              ")"
            ]
          },
          "metadata": {},
          "execution_count": 7
        }
      ]
    },
    {
      "cell_type": "markdown",
      "source": [
        "#Unlearning Algorithms"
      ],
      "metadata": {
        "id": "dG6kZXqdpZ3g"
      }
    },
    {
      "cell_type": "markdown",
      "source": [
        "##Algorithm 1 - Fine Tuning (on Retain set)"
      ],
      "metadata": {
        "id": "0-0UVUsZpc8s"
      }
    },
    {
      "cell_type": "markdown",
      "source": [
        "Fine Tuning on retain set algorithm is the base algorithm (or) you can use the results of this algorithm as a benchmark for comparing the other algorithms."
      ],
      "metadata": {
        "id": "iPdBOqdNpvxc"
      }
    },
    {
      "cell_type": "code",
      "source": [
        "import torch.optim as optim\n",
        "from torch import nn\n",
        "\n",
        "def fine_tune_on_retain(net, retain_loader, forget_loader, val_loader, epochs=5):\n",
        "    criterion = nn.CrossEntropyLoss()\n",
        "    optimizer = optim.SGD(net.parameters(), lr=0.001, momentum=0.9, weight_decay=5e-4)\n",
        "    scheduler = torch.optim.lr_scheduler.CosineAnnealingLR(optimizer, T_max=epochs)\n",
        "    net.train()\n",
        "\n",
        "\n",
        "    for epoch in range(epochs):\n",
        "        running_loss = 0.0\n",
        "        for inputs, targets in retain_loader:\n",
        "            inputs, targets = inputs.to(DEVICE), targets.to(DEVICE)\n",
        "\n",
        "            optimizer.zero_grad()\n",
        "            outputs = net(inputs)\n",
        "            loss = criterion(outputs, targets)\n",
        "\n",
        "            loss.backward()\n",
        "            optimizer.step()\n",
        "\n",
        "            running_loss += loss.item()\n",
        "        scheduler.step()\n",
        "\n",
        "        print(f\"Epoch [{epoch+1}/{epochs}], Loss: {running_loss/len(retain_loader):.4f}\")\n",
        "\n",
        "    net.eval()\n",
        "    return net\n"
      ],
      "metadata": {
        "id": "SwaLv4YTkey6"
      },
      "execution_count": null,
      "outputs": []
    },
    {
      "cell_type": "code",
      "source": [
        "# Perform unlearning using the modified function\n",
        "model_1 = fine_tune_on_retain(model, retain_loader, forget_loader, val_loader, epochs=100)"
      ],
      "metadata": {
        "colab": {
          "base_uri": "https://localhost:8080/"
        },
        "id": "URLXInAtqaYT",
        "outputId": "eefce454-4bec-4c15-ad3c-bbcc89af5fee"
      },
      "execution_count": null,
      "outputs": [
        {
          "output_type": "stream",
          "name": "stdout",
          "text": [
            "Epoch [1/100], Loss: 0.0385\n",
            "Epoch [2/100], Loss: 0.0172\n",
            "Epoch [3/100], Loss: 0.0125\n",
            "Epoch [4/100], Loss: 0.0096\n",
            "Epoch [5/100], Loss: 0.0082\n",
            "Epoch [6/100], Loss: 0.0070\n",
            "Epoch [7/100], Loss: 0.0061\n",
            "Epoch [8/100], Loss: 0.0052\n",
            "Epoch [9/100], Loss: 0.0052\n",
            "Epoch [10/100], Loss: 0.0046\n",
            "Epoch [11/100], Loss: 0.0044\n",
            "Epoch [12/100], Loss: 0.0042\n",
            "Epoch [13/100], Loss: 0.0038\n",
            "Epoch [14/100], Loss: 0.0036\n",
            "Epoch [15/100], Loss: 0.0033\n",
            "Epoch [16/100], Loss: 0.0033\n",
            "Epoch [17/100], Loss: 0.0031\n",
            "Epoch [18/100], Loss: 0.0030\n",
            "Epoch [19/100], Loss: 0.0029\n",
            "Epoch [20/100], Loss: 0.0028\n",
            "Epoch [21/100], Loss: 0.0027\n",
            "Epoch [22/100], Loss: 0.0026\n",
            "Epoch [23/100], Loss: 0.0026\n",
            "Epoch [24/100], Loss: 0.0024\n",
            "Epoch [25/100], Loss: 0.0025\n",
            "Epoch [26/100], Loss: 0.0024\n",
            "Epoch [27/100], Loss: 0.0023\n",
            "Epoch [28/100], Loss: 0.0022\n",
            "Epoch [29/100], Loss: 0.0023\n",
            "Epoch [30/100], Loss: 0.0021\n",
            "Epoch [31/100], Loss: 0.0021\n",
            "Epoch [32/100], Loss: 0.0020\n",
            "Epoch [33/100], Loss: 0.0020\n",
            "Epoch [34/100], Loss: 0.0021\n",
            "Epoch [35/100], Loss: 0.0020\n",
            "Epoch [36/100], Loss: 0.0019\n",
            "Epoch [37/100], Loss: 0.0019\n",
            "Epoch [38/100], Loss: 0.0018\n",
            "Epoch [39/100], Loss: 0.0019\n",
            "Epoch [40/100], Loss: 0.0018\n",
            "Epoch [41/100], Loss: 0.0018\n",
            "Epoch [42/100], Loss: 0.0018\n",
            "Epoch [43/100], Loss: 0.0018\n",
            "Epoch [44/100], Loss: 0.0018\n",
            "Epoch [45/100], Loss: 0.0018\n",
            "Epoch [46/100], Loss: 0.0018\n",
            "Epoch [47/100], Loss: 0.0018\n",
            "Epoch [48/100], Loss: 0.0017\n",
            "Epoch [49/100], Loss: 0.0017\n",
            "Epoch [50/100], Loss: 0.0017\n",
            "Epoch [51/100], Loss: 0.0018\n",
            "Epoch [52/100], Loss: 0.0016\n",
            "Epoch [53/100], Loss: 0.0017\n",
            "Epoch [54/100], Loss: 0.0017\n",
            "Epoch [55/100], Loss: 0.0017\n",
            "Epoch [56/100], Loss: 0.0016\n",
            "Epoch [57/100], Loss: 0.0016\n",
            "Epoch [58/100], Loss: 0.0017\n",
            "Epoch [59/100], Loss: 0.0016\n",
            "Epoch [60/100], Loss: 0.0017\n",
            "Epoch [61/100], Loss: 0.0016\n",
            "Epoch [62/100], Loss: 0.0016\n",
            "Epoch [63/100], Loss: 0.0016\n",
            "Epoch [64/100], Loss: 0.0016\n",
            "Epoch [65/100], Loss: 0.0015\n",
            "Epoch [66/100], Loss: 0.0016\n",
            "Epoch [67/100], Loss: 0.0016\n",
            "Epoch [68/100], Loss: 0.0015\n",
            "Epoch [69/100], Loss: 0.0016\n",
            "Epoch [70/100], Loss: 0.0015\n",
            "Epoch [71/100], Loss: 0.0015\n",
            "Epoch [72/100], Loss: 0.0015\n",
            "Epoch [73/100], Loss: 0.0015\n",
            "Epoch [74/100], Loss: 0.0015\n",
            "Epoch [75/100], Loss: 0.0015\n",
            "Epoch [76/100], Loss: 0.0016\n",
            "Epoch [77/100], Loss: 0.0016\n",
            "Epoch [78/100], Loss: 0.0015\n",
            "Epoch [79/100], Loss: 0.0015\n",
            "Epoch [80/100], Loss: 0.0016\n",
            "Epoch [81/100], Loss: 0.0015\n",
            "Epoch [82/100], Loss: 0.0016\n",
            "Epoch [83/100], Loss: 0.0015\n",
            "Epoch [84/100], Loss: 0.0015\n",
            "Epoch [85/100], Loss: 0.0015\n",
            "Epoch [86/100], Loss: 0.0015\n",
            "Epoch [87/100], Loss: 0.0016\n",
            "Epoch [88/100], Loss: 0.0016\n",
            "Epoch [89/100], Loss: 0.0015\n",
            "Epoch [90/100], Loss: 0.0015\n",
            "Epoch [91/100], Loss: 0.0015\n",
            "Epoch [92/100], Loss: 0.0015\n",
            "Epoch [93/100], Loss: 0.0016\n",
            "Epoch [94/100], Loss: 0.0015\n",
            "Epoch [95/100], Loss: 0.0015\n",
            "Epoch [96/100], Loss: 0.0015\n",
            "Epoch [97/100], Loss: 0.0015\n",
            "Epoch [98/100], Loss: 0.0015\n",
            "Epoch [99/100], Loss: 0.0015\n",
            "Epoch [100/100], Loss: 0.0015\n"
          ]
        }
      ]
    },
    {
      "cell_type": "code",
      "source": [
        "def evaluate_accuracy(net, loader):\n",
        "    net.eval()\n",
        "    correct = 0\n",
        "    total = 0\n",
        "\n",
        "    with torch.no_grad():\n",
        "        for inputs, targets in loader:\n",
        "            inputs, targets = inputs.to(DEVICE), targets.to(DEVICE)\n",
        "            outputs = net(inputs)\n",
        "            _, predicted = outputs.max(1)\n",
        "            total += targets.size(0)\n",
        "            correct += predicted.eq(targets).sum().item()\n",
        "\n",
        "    return correct / total\n",
        "\n",
        "retain_acc = evaluate_accuracy(model_1, retain_loader)\n",
        "forget_acc = evaluate_accuracy(model_1, forget_loader)\n",
        "val_acc = evaluate_accuracy(model_1, val_loader)\n",
        "test_acc = evaluate_accuracy(model_1, test_loader)\n",
        "\n",
        "print(f\"Retain set accuracy: {retain_acc * 100:.2f}%\")\n",
        "print(f\"Forget set accuracy: {forget_acc * 100:.2f}%\")\n",
        "print(f\"Validation set accuracy: {val_acc * 100:.2f}%\")\n",
        "print(f\"Test set accuracy: {test_acc * 100:.2f}%\")\n"
      ],
      "metadata": {
        "id": "QOQ_V9mRtCZT",
        "colab": {
          "base_uri": "https://localhost:8080/"
        },
        "outputId": "8aa8fa34-86cf-4820-cb32-4b9be1f9452d"
      },
      "execution_count": null,
      "outputs": [
        {
          "output_type": "stream",
          "name": "stdout",
          "text": [
            "Retain set accuracy: 100.00%\n",
            "Forget set accuracy: 99.22%\n",
            "Validation set accuracy: 88.40%\n",
            "Test set accuracy: 88.54%\n"
          ]
        }
      ]
    },
    {
      "cell_type": "markdown",
      "source": [
        "#Algorithm 2 - Selective fine-tuning"
      ],
      "metadata": {
        "id": "rMUjw3OnPHdY"
      }
    },
    {
      "cell_type": "code",
      "source": [
        "def selective_fine_tune(net, retain_loader, forget_loader, val_loader, epochs=5):\n",
        "    for name, param in net.named_parameters():\n",
        "        if \"layer4\" not in name and \"fc\" not in name:\n",
        "            param.requires_grad = False\n",
        "\n",
        "    criterion = nn.CrossEntropyLoss()\n",
        "    optimizer = optim.SGD(filter(lambda p: p.requires_grad, net.parameters()), lr=0.001, momentum=0.9, weight_decay=5e-4)\n",
        "    scheduler = torch.optim.lr_scheduler.CosineAnnealingLR(optimizer, T_max=epochs)\n",
        "\n",
        "    net.train()\n",
        "    for epoch in range(epochs):\n",
        "        running_loss = 0.0\n",
        "        for inputs, targets in retain_loader:\n",
        "            inputs, targets = inputs.to(DEVICE), targets.to(DEVICE)\n",
        "\n",
        "            optimizer.zero_grad()\n",
        "            outputs = net(inputs)\n",
        "            loss = criterion(outputs, targets)\n",
        "            loss.backward()\n",
        "            optimizer.step()\n",
        "\n",
        "            running_loss += loss.item()\n",
        "        scheduler.step()\n",
        "\n",
        "        print(f\"Epoch [{epoch+1}/{epochs}], Loss: {running_loss/len(retain_loader):.4f}\")\n",
        "\n",
        "    net.eval()\n",
        "    return net\n"
      ],
      "metadata": {
        "id": "wXq5Zkfxv-eY"
      },
      "execution_count": null,
      "outputs": []
    },
    {
      "cell_type": "code",
      "source": [
        "model_2 = selective_fine_tune(model, retain_loader, forget_loader, val_loader, epochs=100)"
      ],
      "metadata": {
        "id": "LgTNb0_M11Dz",
        "colab": {
          "base_uri": "https://localhost:8080/"
        },
        "outputId": "83782a7e-6b8e-4477-c129-e36e94e99630"
      },
      "execution_count": null,
      "outputs": [
        {
          "output_type": "stream",
          "name": "stdout",
          "text": [
            "Epoch [1/100], Loss: 0.0016\n",
            "Epoch [2/100], Loss: 0.0015\n",
            "Epoch [3/100], Loss: 0.0015\n",
            "Epoch [4/100], Loss: 0.0015\n",
            "Epoch [5/100], Loss: 0.0016\n",
            "Epoch [6/100], Loss: 0.0016\n",
            "Epoch [7/100], Loss: 0.0016\n",
            "Epoch [8/100], Loss: 0.0015\n",
            "Epoch [9/100], Loss: 0.0016\n",
            "Epoch [10/100], Loss: 0.0016\n",
            "Epoch [11/100], Loss: 0.0017\n",
            "Epoch [12/100], Loss: 0.0016\n",
            "Epoch [13/100], Loss: 0.0017\n",
            "Epoch [14/100], Loss: 0.0016\n",
            "Epoch [15/100], Loss: 0.0016\n",
            "Epoch [16/100], Loss: 0.0016\n",
            "Epoch [17/100], Loss: 0.0017\n",
            "Epoch [18/100], Loss: 0.0017\n",
            "Epoch [19/100], Loss: 0.0017\n",
            "Epoch [20/100], Loss: 0.0016\n",
            "Epoch [21/100], Loss: 0.0017\n",
            "Epoch [22/100], Loss: 0.0016\n",
            "Epoch [23/100], Loss: 0.0017\n",
            "Epoch [24/100], Loss: 0.0017\n",
            "Epoch [25/100], Loss: 0.0017\n",
            "Epoch [26/100], Loss: 0.0018\n",
            "Epoch [27/100], Loss: 0.0017\n",
            "Epoch [28/100], Loss: 0.0017\n",
            "Epoch [29/100], Loss: 0.0017\n",
            "Epoch [30/100], Loss: 0.0017\n",
            "Epoch [31/100], Loss: 0.0017\n",
            "Epoch [32/100], Loss: 0.0018\n",
            "Epoch [33/100], Loss: 0.0018\n",
            "Epoch [34/100], Loss: 0.0018\n",
            "Epoch [35/100], Loss: 0.0017\n",
            "Epoch [36/100], Loss: 0.0018\n",
            "Epoch [37/100], Loss: 0.0017\n",
            "Epoch [38/100], Loss: 0.0018\n",
            "Epoch [39/100], Loss: 0.0018\n",
            "Epoch [40/100], Loss: 0.0018\n",
            "Epoch [41/100], Loss: 0.0018\n",
            "Epoch [42/100], Loss: 0.0018\n",
            "Epoch [43/100], Loss: 0.0018\n",
            "Epoch [44/100], Loss: 0.0019\n",
            "Epoch [45/100], Loss: 0.0018\n",
            "Epoch [46/100], Loss: 0.0018\n",
            "Epoch [47/100], Loss: 0.0018\n",
            "Epoch [48/100], Loss: 0.0019\n",
            "Epoch [49/100], Loss: 0.0019\n",
            "Epoch [50/100], Loss: 0.0018\n",
            "Epoch [51/100], Loss: 0.0019\n",
            "Epoch [52/100], Loss: 0.0019\n",
            "Epoch [53/100], Loss: 0.0018\n",
            "Epoch [54/100], Loss: 0.0018\n",
            "Epoch [55/100], Loss: 0.0018\n",
            "Epoch [56/100], Loss: 0.0019\n",
            "Epoch [57/100], Loss: 0.0018\n",
            "Epoch [58/100], Loss: 0.0019\n",
            "Epoch [59/100], Loss: 0.0018\n",
            "Epoch [60/100], Loss: 0.0019\n",
            "Epoch [61/100], Loss: 0.0018\n",
            "Epoch [62/100], Loss: 0.0019\n",
            "Epoch [63/100], Loss: 0.0019\n",
            "Epoch [64/100], Loss: 0.0018\n",
            "Epoch [65/100], Loss: 0.0018\n",
            "Epoch [66/100], Loss: 0.0018\n",
            "Epoch [67/100], Loss: 0.0018\n",
            "Epoch [68/100], Loss: 0.0019\n",
            "Epoch [69/100], Loss: 0.0018\n",
            "Epoch [70/100], Loss: 0.0018\n",
            "Epoch [71/100], Loss: 0.0019\n",
            "Epoch [72/100], Loss: 0.0018\n",
            "Epoch [73/100], Loss: 0.0018\n",
            "Epoch [74/100], Loss: 0.0018\n",
            "Epoch [75/100], Loss: 0.0018\n",
            "Epoch [76/100], Loss: 0.0018\n",
            "Epoch [77/100], Loss: 0.0018\n",
            "Epoch [78/100], Loss: 0.0019\n",
            "Epoch [79/100], Loss: 0.0018\n",
            "Epoch [80/100], Loss: 0.0019\n",
            "Epoch [81/100], Loss: 0.0018\n",
            "Epoch [82/100], Loss: 0.0018\n",
            "Epoch [83/100], Loss: 0.0018\n",
            "Epoch [84/100], Loss: 0.0019\n",
            "Epoch [85/100], Loss: 0.0018\n",
            "Epoch [86/100], Loss: 0.0019\n",
            "Epoch [87/100], Loss: 0.0019\n",
            "Epoch [88/100], Loss: 0.0018\n",
            "Epoch [89/100], Loss: 0.0019\n",
            "Epoch [90/100], Loss: 0.0019\n",
            "Epoch [91/100], Loss: 0.0018\n",
            "Epoch [92/100], Loss: 0.0019\n",
            "Epoch [93/100], Loss: 0.0018\n",
            "Epoch [94/100], Loss: 0.0019\n",
            "Epoch [95/100], Loss: 0.0018\n",
            "Epoch [96/100], Loss: 0.0019\n",
            "Epoch [97/100], Loss: 0.0019\n",
            "Epoch [98/100], Loss: 0.0019\n",
            "Epoch [99/100], Loss: 0.0018\n",
            "Epoch [100/100], Loss: 0.0018\n"
          ]
        }
      ]
    },
    {
      "cell_type": "code",
      "source": [
        "retain_acc = evaluate_accuracy(model_2, retain_loader)\n",
        "forget_acc = evaluate_accuracy(model_2, forget_loader)\n",
        "val_acc = evaluate_accuracy(model_2, val_loader)\n",
        "test_acc = evaluate_accuracy(model_2, test_loader)\n",
        "\n",
        "print(f\"Retain set accuracy: {retain_acc * 100:.2f}%\")\n",
        "print(f\"Forget set accuracy: {forget_acc * 100:.2f}%\")\n",
        "print(f\"Validation set accuracy: {val_acc * 100:.2f}%\")\n",
        "print(f\"Test set accuracy: {test_acc * 100:.2f}%\")"
      ],
      "metadata": {
        "id": "RRT8hgun2Uyf",
        "colab": {
          "base_uri": "https://localhost:8080/"
        },
        "outputId": "e6aef39b-e463-4ff2-8055-b1c95982975d"
      },
      "execution_count": null,
      "outputs": [
        {
          "output_type": "stream",
          "name": "stdout",
          "text": [
            "Retain set accuracy: 100.00%\n",
            "Forget set accuracy: 99.14%\n",
            "Validation set accuracy: 88.36%\n",
            "Test set accuracy: 88.60%\n"
          ]
        }
      ]
    },
    {
      "cell_type": "markdown",
      "source": [
        "#Algorithm 3 - Fine-tuning with gradient reversal applied on the forget set"
      ],
      "metadata": {
        "id": "0hJH5TDlPNRf"
      }
    },
    {
      "cell_type": "code",
      "source": [
        "import torch.optim as optim\n",
        "from torch import nn\n",
        "\n",
        "def gradient_reversal_unlearning(net, retain_loader, forget_loader, val_loader, epochs=10):\n",
        "    net = selective_fine_tune(net, retain_loader, forget_loader, val_loader, epochs=epochs)\n",
        "\n",
        "    # Apply gradient reversal on forget set\n",
        "    criterion = nn.CrossEntropyLoss()\n",
        "    optimizer = optim.SGD(filter(lambda p: p.requires_grad, net.parameters()), lr=0.001, momentum=0.9, weight_decay=5e-4)\n",
        "\n",
        "    print(\"Applying gradient reversal on forget set...\")\n",
        "    for inputs, targets in forget_loader:\n",
        "        inputs, targets = inputs.to(DEVICE), targets.to(DEVICE)\n",
        "\n",
        "        optimizer.zero_grad()\n",
        "        outputs = net(inputs)\n",
        "        loss = -criterion(outputs, targets)  # Negative gradient\n",
        "        loss.backward()\n",
        "        optimizer.step()\n",
        "\n",
        "    # Return the modified model\n",
        "    return net\n"
      ],
      "metadata": {
        "id": "Q2WRMG8v2XMA"
      },
      "execution_count": null,
      "outputs": []
    },
    {
      "cell_type": "code",
      "source": [
        "model_3 = gradient_reversal_unlearning(model, retain_loader, forget_loader, val_loader, epochs=60)"
      ],
      "metadata": {
        "id": "Jc_hl4ZbY2nT",
        "colab": {
          "base_uri": "https://localhost:8080/"
        },
        "outputId": "63ce414a-525b-4ee1-c4e0-06124aad0b80"
      },
      "execution_count": null,
      "outputs": [
        {
          "output_type": "stream",
          "name": "stdout",
          "text": [
            "Epoch [1/60], Loss: 0.0018\n",
            "Epoch [2/60], Loss: 0.0018\n",
            "Epoch [3/60], Loss: 0.0019\n",
            "Epoch [4/60], Loss: 0.0019\n",
            "Epoch [5/60], Loss: 0.0018\n",
            "Epoch [6/60], Loss: 0.0019\n",
            "Epoch [7/60], Loss: 0.0018\n",
            "Epoch [8/60], Loss: 0.0019\n",
            "Epoch [9/60], Loss: 0.0019\n",
            "Epoch [10/60], Loss: 0.0018\n",
            "Epoch [11/60], Loss: 0.0019\n",
            "Epoch [12/60], Loss: 0.0019\n",
            "Epoch [13/60], Loss: 0.0019\n",
            "Epoch [14/60], Loss: 0.0019\n",
            "Epoch [15/60], Loss: 0.0019\n",
            "Epoch [16/60], Loss: 0.0019\n",
            "Epoch [17/60], Loss: 0.0019\n",
            "Epoch [18/60], Loss: 0.0020\n",
            "Epoch [19/60], Loss: 0.0019\n",
            "Epoch [20/60], Loss: 0.0019\n",
            "Epoch [21/60], Loss: 0.0019\n",
            "Epoch [22/60], Loss: 0.0020\n",
            "Epoch [23/60], Loss: 0.0019\n",
            "Epoch [24/60], Loss: 0.0019\n",
            "Epoch [25/60], Loss: 0.0019\n",
            "Epoch [26/60], Loss: 0.0019\n",
            "Epoch [27/60], Loss: 0.0020\n",
            "Epoch [28/60], Loss: 0.0019\n",
            "Epoch [29/60], Loss: 0.0019\n",
            "Epoch [30/60], Loss: 0.0019\n",
            "Epoch [31/60], Loss: 0.0019\n",
            "Epoch [32/60], Loss: 0.0019\n",
            "Epoch [33/60], Loss: 0.0019\n",
            "Epoch [34/60], Loss: 0.0019\n",
            "Epoch [35/60], Loss: 0.0019\n",
            "Epoch [36/60], Loss: 0.0019\n",
            "Epoch [37/60], Loss: 0.0019\n",
            "Epoch [38/60], Loss: 0.0019\n",
            "Epoch [39/60], Loss: 0.0019\n",
            "Epoch [40/60], Loss: 0.0020\n",
            "Epoch [41/60], Loss: 0.0020\n",
            "Epoch [42/60], Loss: 0.0019\n",
            "Epoch [43/60], Loss: 0.0020\n",
            "Epoch [44/60], Loss: 0.0019\n",
            "Epoch [45/60], Loss: 0.0019\n",
            "Epoch [46/60], Loss: 0.0019\n",
            "Epoch [47/60], Loss: 0.0020\n",
            "Epoch [48/60], Loss: 0.0020\n",
            "Epoch [49/60], Loss: 0.0021\n",
            "Epoch [50/60], Loss: 0.0019\n",
            "Epoch [51/60], Loss: 0.0019\n",
            "Epoch [52/60], Loss: 0.0019\n",
            "Epoch [53/60], Loss: 0.0019\n",
            "Epoch [54/60], Loss: 0.0020\n",
            "Epoch [55/60], Loss: 0.0019\n",
            "Epoch [56/60], Loss: 0.0019\n",
            "Epoch [57/60], Loss: 0.0020\n",
            "Epoch [58/60], Loss: 0.0019\n",
            "Epoch [59/60], Loss: 0.0019\n",
            "Epoch [60/60], Loss: 0.0019\n",
            "Applying gradient reversal on forget set...\n"
          ]
        }
      ]
    },
    {
      "cell_type": "code",
      "source": [
        "retain_acc = evaluate_accuracy(model_3, retain_loader)\n",
        "forget_acc = evaluate_accuracy(model_3, forget_loader)\n",
        "val_acc = evaluate_accuracy(model_3, val_loader)\n",
        "test_acc = evaluate_accuracy(model_3, test_loader)\n",
        "\n",
        "print(f\"Retain set accuracy: {retain_acc * 100:.2f}%\")\n",
        "print(f\"Forget set accuracy: {forget_acc * 100:.2f}%\")\n",
        "print(f\"Validation set accuracy: {val_acc * 100:.2f}%\")\n",
        "print(f\"Test set accuracy: {test_acc * 100:.2f}%\")"
      ],
      "metadata": {
        "id": "24sJGDjIZSxr",
        "colab": {
          "base_uri": "https://localhost:8080/"
        },
        "outputId": "0ed50bff-871d-4061-ead6-dcde1d8988c3"
      },
      "execution_count": null,
      "outputs": [
        {
          "output_type": "stream",
          "name": "stdout",
          "text": [
            "Retain set accuracy: 100.00%\n",
            "Forget set accuracy: 98.30%\n",
            "Validation set accuracy: 87.62%\n",
            "Test set accuracy: 88.10%\n"
          ]
        }
      ]
    },
    {
      "cell_type": "markdown",
      "source": [
        "#Alternating fine-tuning on retain set and gradient reversal on forget set"
      ],
      "metadata": {
        "id": "QifM91iSPTU1"
      }
    },
    {
      "cell_type": "code",
      "source": [
        "import torch.optim as optim\n",
        "from torch import nn\n",
        "\n",
        "def gradient_reversal_unlearning(net, retain_loader, forget_loader, val_loader, epochs=10, reverse_scale=-0.1):\n",
        "    net = selective_fine_tune(net, retain_loader, forget_loader, val_loader, epochs=epochs//2)\n",
        "\n",
        "    criterion = nn.CrossEntropyLoss()\n",
        "    optimizer = optim.SGD(filter(lambda p: p.requires_grad, net.parameters()), lr=0.001, momentum=0.9, weight_decay=5e-4)\n",
        "\n",
        "    print(\"Applying alternating fine-tuning and gradient reversal...\")\n",
        "    for epoch in range(epochs//2):\n",
        "        net.train()\n",
        "        for inputs, targets in retain_loader:\n",
        "            inputs, targets = inputs.to(DEVICE), targets.to(DEVICE)\n",
        "\n",
        "            optimizer.zero_grad()\n",
        "            outputs = net(inputs)\n",
        "            loss = criterion(outputs, targets)\n",
        "            loss.backward()\n",
        "            optimizer.step()\n",
        "\n",
        "        for inputs, targets in forget_loader:\n",
        "            inputs, targets = inputs.to(DEVICE), targets.to(DEVICE)\n",
        "\n",
        "            optimizer.zero_grad()\n",
        "            outputs = net(inputs)\n",
        "            loss = reverse_scale * criterion(outputs, targets)  # negative gradient\n",
        "            loss.backward()\n",
        "            optimizer.step()\n",
        "\n",
        "    return net\n"
      ],
      "metadata": {
        "id": "vJvFAPUGySX-"
      },
      "execution_count": null,
      "outputs": []
    },
    {
      "cell_type": "code",
      "source": [
        "model_4 = gradient_reversal_unlearning(model, retain_loader, forget_loader, val_loader, epochs=100, reverse_scale=-0.3)\n",
        "\n",
        "retain_acc = evaluate_accuracy(model_4, retain_loader)\n",
        "forget_acc = evaluate_accuracy(model_4, forget_loader)\n",
        "val_acc = evaluate_accuracy(model_4, val_loader)\n",
        "test_acc = evaluate_accuracy(model_4, test_loader)\n",
        "\n",
        "print(f\"Retain set accuracy: {retain_acc * 100:.2f}%\")\n",
        "print(f\"Forget set accuracy: {forget_acc * 100:.2f}%\")\n",
        "print(f\"Validation set accuracy: {val_acc * 100:.2f}%\")\n",
        "print(f\"Test set accuracy: {test_acc * 100:.2f}%\")\n"
      ],
      "metadata": {
        "id": "_3h-ffJL_ymu",
        "colab": {
          "base_uri": "https://localhost:8080/"
        },
        "outputId": "92a1ef75-6ed9-4391-b389-8b9ba37a5541"
      },
      "execution_count": null,
      "outputs": [
        {
          "output_type": "stream",
          "name": "stdout",
          "text": [
            "Applying frequent alternation between fine-tuning and gradient reversal...\n",
            "Epoch [1/100] completed.\n",
            "Epoch [2/100] completed.\n",
            "Epoch [3/100] completed.\n",
            "Epoch [4/100] completed.\n",
            "Epoch [5/100] completed.\n",
            "Epoch [6/100] completed.\n",
            "Epoch [7/100] completed.\n",
            "Epoch [8/100] completed.\n",
            "Epoch [9/100] completed.\n",
            "Epoch [10/100] completed.\n",
            "Epoch [11/100] completed.\n",
            "Epoch [12/100] completed.\n",
            "Epoch [13/100] completed.\n",
            "Epoch [14/100] completed.\n",
            "Epoch [15/100] completed.\n",
            "Epoch [16/100] completed.\n",
            "Epoch [17/100] completed.\n",
            "Epoch [18/100] completed.\n",
            "Epoch [19/100] completed.\n",
            "Epoch [20/100] completed.\n",
            "Epoch [21/100] completed.\n",
            "Epoch [22/100] completed.\n",
            "Epoch [23/100] completed.\n",
            "Epoch [24/100] completed.\n",
            "Epoch [25/100] completed.\n",
            "Epoch [26/100] completed.\n",
            "Epoch [27/100] completed.\n",
            "Epoch [28/100] completed.\n",
            "Epoch [29/100] completed.\n",
            "Epoch [30/100] completed.\n",
            "Epoch [31/100] completed.\n",
            "Epoch [32/100] completed.\n",
            "Epoch [33/100] completed.\n",
            "Epoch [34/100] completed.\n",
            "Epoch [35/100] completed.\n",
            "Epoch [36/100] completed.\n",
            "Epoch [37/100] completed.\n",
            "Epoch [38/100] completed.\n",
            "Epoch [39/100] completed.\n",
            "Epoch [40/100] completed.\n",
            "Epoch [41/100] completed.\n",
            "Epoch [42/100] completed.\n",
            "Epoch [43/100] completed.\n",
            "Epoch [44/100] completed.\n",
            "Epoch [45/100] completed.\n",
            "Epoch [46/100] completed.\n",
            "Epoch [47/100] completed.\n",
            "Epoch [48/100] completed.\n",
            "Epoch [49/100] completed.\n",
            "Epoch [50/100] completed.\n",
            "Epoch [51/100] completed.\n",
            "Epoch [52/100] completed.\n",
            "Epoch [53/100] completed.\n",
            "Epoch [54/100] completed.\n",
            "Epoch [55/100] completed.\n",
            "Epoch [56/100] completed.\n",
            "Epoch [57/100] completed.\n",
            "Epoch [58/100] completed.\n",
            "Epoch [59/100] completed.\n",
            "Epoch [60/100] completed.\n",
            "Epoch [61/100] completed.\n",
            "Epoch [62/100] completed.\n",
            "Epoch [63/100] completed.\n",
            "Epoch [64/100] completed.\n",
            "Epoch [65/100] completed.\n",
            "Epoch [66/100] completed.\n",
            "Epoch [67/100] completed.\n",
            "Epoch [68/100] completed.\n",
            "Epoch [69/100] completed.\n",
            "Epoch [70/100] completed.\n",
            "Epoch [71/100] completed.\n",
            "Epoch [72/100] completed.\n",
            "Epoch [73/100] completed.\n",
            "Epoch [74/100] completed.\n",
            "Epoch [75/100] completed.\n",
            "Epoch [76/100] completed.\n",
            "Epoch [77/100] completed.\n",
            "Epoch [78/100] completed.\n",
            "Epoch [79/100] completed.\n",
            "Epoch [80/100] completed.\n",
            "Epoch [81/100] completed.\n",
            "Epoch [82/100] completed.\n",
            "Epoch [83/100] completed.\n",
            "Epoch [84/100] completed.\n",
            "Epoch [85/100] completed.\n",
            "Epoch [86/100] completed.\n",
            "Epoch [87/100] completed.\n",
            "Epoch [88/100] completed.\n",
            "Epoch [89/100] completed.\n",
            "Epoch [90/100] completed.\n",
            "Epoch [91/100] completed.\n",
            "Epoch [92/100] completed.\n",
            "Epoch [93/100] completed.\n",
            "Epoch [94/100] completed.\n",
            "Epoch [95/100] completed.\n",
            "Epoch [96/100] completed.\n",
            "Epoch [97/100] completed.\n",
            "Epoch [98/100] completed.\n",
            "Epoch [99/100] completed.\n",
            "Epoch [100/100] completed.\n",
            "Final fine-tuning on retain set...\n",
            "Fine-tune Epoch [1/5], Loss: 3.6250\n",
            "Fine-tune Epoch [2/5], Loss: 2.5468\n",
            "Fine-tune Epoch [3/5], Loss: 0.6100\n",
            "Fine-tune Epoch [4/5], Loss: 0.7372\n",
            "Fine-tune Epoch [5/5], Loss: 0.6236\n",
            "Retain set accuracy: 99.96%\n",
            "Forget set accuracy: 96.10%\n",
            "Validation set accuracy: 86.76%\n",
            "Test set accuracy: 86.58%\n"
          ]
        }
      ]
    },
    {
      "cell_type": "markdown",
      "source": [
        "# Algorithm 5 - Frequent alternation with stronger gradient reversal"
      ],
      "metadata": {
        "id": "HNC4ly_ThA7a"
      }
    },
    {
      "cell_type": "code",
      "source": [
        "import torch.optim as optim\n",
        "from torch import nn\n",
        "\n",
        "def gradient_reversal_unlearning(net, retain_loader, forget_loader, val_loader, epochs=50, reverse_scale=-0.5):\n",
        "    criterion = nn.CrossEntropyLoss()\n",
        "    optimizer = optim.SGD(filter(lambda p: p.requires_grad, net.parameters()), lr=0.001, momentum=0.9, weight_decay=5e-4)\n",
        "\n",
        "    print(\"Applying frequent alternation between fine-tuning and gradient reversal...\")\n",
        "    for epoch in range(epochs):\n",
        "        net.train()\n",
        "\n",
        "        # Alternate between retain and forget set every few batches\n",
        "        retain_iter = iter(retain_loader)\n",
        "        forget_iter = iter(forget_loader)\n",
        "\n",
        "        for batch_idx in range(min(len(retain_loader), len(forget_loader))):\n",
        "            # Step 1: Fine-tune on retain set\n",
        "            try:\n",
        "                inputs, targets = next(retain_iter)\n",
        "            except StopIteration:\n",
        "                retain_iter = iter(retain_loader)\n",
        "                inputs, targets = next(retain_iter)\n",
        "            inputs, targets = inputs.to(DEVICE), targets.to(DEVICE)\n",
        "\n",
        "            optimizer.zero_grad()\n",
        "            outputs = net(inputs)\n",
        "            loss = criterion(outputs, targets)\n",
        "            loss.backward()\n",
        "            optimizer.step()\n",
        "\n",
        "            # Step 2: Apply scaled gradient reversal on forget set\n",
        "            try:\n",
        "                inputs, targets = next(forget_iter)\n",
        "            except StopIteration:\n",
        "                forget_iter = iter(forget_loader)\n",
        "                inputs, targets = next(forget_iter)\n",
        "            inputs, targets = inputs.to(DEVICE), targets.to(DEVICE)\n",
        "\n",
        "            optimizer.zero_grad()\n",
        "            outputs = net(inputs)\n",
        "            loss = reverse_scale * criterion(outputs, targets)  # Apply a stronger negative gradient\n",
        "            loss.backward()\n",
        "            optimizer.step()\n",
        "\n",
        "        print(f\"Epoch [{epoch+1}/{epochs}] completed.\")\n",
        "\n",
        "    return net\n"
      ],
      "metadata": {
        "id": "QBOmlDf7_2-F"
      },
      "execution_count": null,
      "outputs": []
    },
    {
      "cell_type": "code",
      "source": [
        "model_5 = gradient_reversal_unlearning(model, retain_loader, forget_loader, val_loader, epochs=100, reverse_scale=-0.4)\n",
        "\n",
        "retain_acc = evaluate_accuracy(model_5, retain_loader)\n",
        "forget_acc = evaluate_accuracy(model_5, forget_loader)\n",
        "val_acc = evaluate_accuracy(model_5, val_loader)\n",
        "test_acc = evaluate_accuracy(model_5, test_loader)\n",
        "\n",
        "print(f\"Retain set accuracy: {retain_acc * 100:.2f}%\")\n",
        "print(f\"Forget set accuracy: {forget_acc * 100:.2f}%\")\n",
        "print(f\"Validation set accuracy: {val_acc * 100:.2f}%\")\n",
        "print(f\"Test set accuracy: {test_acc * 100:.2f}%\")\n"
      ],
      "metadata": {
        "colab": {
          "base_uri": "https://localhost:8080/"
        },
        "id": "MukfwyEFhDky",
        "outputId": "47422e97-d74d-4883-f292-3c1ce099d9a5"
      },
      "execution_count": null,
      "outputs": [
        {
          "output_type": "stream",
          "name": "stdout",
          "text": [
            "Applying frequent alternation between fine-tuning and gradient reversal...\n",
            "Epoch [1/100] completed.\n",
            "Epoch [2/100] completed.\n",
            "Epoch [3/100] completed.\n",
            "Epoch [4/100] completed.\n",
            "Epoch [5/100] completed.\n",
            "Epoch [6/100] completed.\n",
            "Epoch [7/100] completed.\n",
            "Epoch [8/100] completed.\n",
            "Epoch [9/100] completed.\n",
            "Epoch [10/100] completed.\n",
            "Epoch [11/100] completed.\n",
            "Epoch [12/100] completed.\n",
            "Epoch [13/100] completed.\n",
            "Epoch [14/100] completed.\n",
            "Epoch [15/100] completed.\n",
            "Epoch [16/100] completed.\n",
            "Epoch [17/100] completed.\n",
            "Epoch [18/100] completed.\n",
            "Epoch [19/100] completed.\n",
            "Epoch [20/100] completed.\n",
            "Epoch [21/100] completed.\n",
            "Epoch [22/100] completed.\n",
            "Epoch [23/100] completed.\n",
            "Epoch [24/100] completed.\n",
            "Epoch [25/100] completed.\n",
            "Epoch [26/100] completed.\n",
            "Epoch [27/100] completed.\n",
            "Epoch [28/100] completed.\n",
            "Epoch [29/100] completed.\n",
            "Epoch [30/100] completed.\n",
            "Epoch [31/100] completed.\n",
            "Epoch [32/100] completed.\n",
            "Epoch [33/100] completed.\n",
            "Epoch [34/100] completed.\n",
            "Epoch [35/100] completed.\n",
            "Epoch [36/100] completed.\n",
            "Epoch [37/100] completed.\n",
            "Epoch [38/100] completed.\n",
            "Epoch [39/100] completed.\n",
            "Epoch [40/100] completed.\n",
            "Epoch [41/100] completed.\n",
            "Epoch [42/100] completed.\n",
            "Epoch [43/100] completed.\n",
            "Epoch [44/100] completed.\n",
            "Epoch [45/100] completed.\n",
            "Epoch [46/100] completed.\n",
            "Epoch [47/100] completed.\n",
            "Epoch [48/100] completed.\n",
            "Epoch [49/100] completed.\n",
            "Epoch [50/100] completed.\n",
            "Epoch [51/100] completed.\n",
            "Epoch [52/100] completed.\n",
            "Epoch [53/100] completed.\n",
            "Epoch [54/100] completed.\n",
            "Epoch [55/100] completed.\n",
            "Epoch [56/100] completed.\n",
            "Epoch [57/100] completed.\n",
            "Epoch [58/100] completed.\n",
            "Epoch [59/100] completed.\n",
            "Epoch [60/100] completed.\n",
            "Epoch [61/100] completed.\n",
            "Epoch [62/100] completed.\n",
            "Epoch [63/100] completed.\n",
            "Epoch [64/100] completed.\n",
            "Epoch [65/100] completed.\n",
            "Epoch [66/100] completed.\n",
            "Epoch [67/100] completed.\n",
            "Epoch [68/100] completed.\n",
            "Epoch [69/100] completed.\n",
            "Epoch [70/100] completed.\n",
            "Epoch [71/100] completed.\n",
            "Epoch [72/100] completed.\n",
            "Epoch [73/100] completed.\n",
            "Epoch [74/100] completed.\n",
            "Epoch [75/100] completed.\n",
            "Epoch [76/100] completed.\n",
            "Epoch [77/100] completed.\n",
            "Epoch [78/100] completed.\n",
            "Epoch [79/100] completed.\n",
            "Epoch [80/100] completed.\n",
            "Epoch [81/100] completed.\n",
            "Epoch [82/100] completed.\n",
            "Epoch [83/100] completed.\n",
            "Epoch [84/100] completed.\n",
            "Epoch [85/100] completed.\n",
            "Epoch [86/100] completed.\n",
            "Epoch [87/100] completed.\n",
            "Epoch [88/100] completed.\n",
            "Epoch [89/100] completed.\n",
            "Epoch [90/100] completed.\n",
            "Epoch [91/100] completed.\n",
            "Epoch [92/100] completed.\n",
            "Epoch [93/100] completed.\n",
            "Epoch [94/100] completed.\n",
            "Epoch [95/100] completed.\n",
            "Epoch [96/100] completed.\n",
            "Epoch [97/100] completed.\n",
            "Epoch [98/100] completed.\n",
            "Epoch [99/100] completed.\n",
            "Epoch [100/100] completed.\n",
            "Retain set accuracy: 92.31%\n",
            "Forget set accuracy: 74.30%\n",
            "Validation set accuracy: 77.90%\n",
            "Test set accuracy: 77.24%\n"
          ]
        }
      ]
    },
    {
      "cell_type": "markdown",
      "source": [
        "Model 5 update and check"
      ],
      "metadata": {
        "id": "mW2teb2vsBxw"
      }
    },
    {
      "cell_type": "code",
      "source": [
        "import torch.optim as optim\n",
        "from torch import nn\n",
        "\n",
        "def gradient_reversal_unlearning(net, retain_loader, forget_loader, val_loader, epochs=50, reverse_scale=-0.5,fine_tune_epochs=5):\n",
        "    criterion = nn.CrossEntropyLoss()\n",
        "    optimizer = optim.SGD(filter(lambda p: p.requires_grad, net.parameters()), lr=0.001, momentum=0.9, weight_decay=5e-4)\n",
        "\n",
        "    print(\"Applying frequent alternation between fine-tuning and gradient reversal...\")\n",
        "    for epoch in range(epochs):\n",
        "        net.train()\n",
        "\n",
        "        # Alternate between retain and forget set every few batches\n",
        "        retain_iter = iter(retain_loader)\n",
        "        forget_iter = iter(forget_loader)\n",
        "\n",
        "        for batch_idx in range(min(len(retain_loader), len(forget_loader))):\n",
        "            # Step 1: Fine-tune on retain set\n",
        "            try:\n",
        "                inputs, targets = next(retain_iter)\n",
        "            except StopIteration:\n",
        "                retain_iter = iter(retain_loader)\n",
        "                inputs, targets = next(retain_iter)\n",
        "            inputs, targets = inputs.to(DEVICE), targets.to(DEVICE)\n",
        "\n",
        "            optimizer.zero_grad()\n",
        "            outputs = net(inputs)\n",
        "            loss = criterion(outputs, targets)\n",
        "            loss.backward()\n",
        "            optimizer.step()\n",
        "\n",
        "            # Step 2: Apply scaled gradient reversal on forget set\n",
        "            try:\n",
        "                inputs, targets = next(forget_iter)\n",
        "            except StopIteration:\n",
        "                forget_iter = iter(forget_loader)\n",
        "                inputs, targets = next(forget_iter)\n",
        "            inputs, targets = inputs.to(DEVICE), targets.to(DEVICE)\n",
        "\n",
        "            optimizer.zero_grad()\n",
        "            outputs = net(inputs)\n",
        "            loss = reverse_scale * criterion(outputs, targets)  # Apply a stronger negative gradient\n",
        "            loss.backward()\n",
        "            optimizer.step()\n",
        "\n",
        "        print(f\"Epoch [{epoch+1}/{epochs}] completed.\")\n",
        "\n",
        "    print(\"Final fine-tuning on retain set...\")\n",
        "    for epoch in range(fine_tune_epochs):\n",
        "        running_loss = 0.0\n",
        "        for inputs, targets in retain_loader:\n",
        "            inputs, targets = inputs.to(DEVICE), targets.to(DEVICE)\n",
        "\n",
        "            optimizer.zero_grad()\n",
        "            outputs = net(inputs)\n",
        "            loss = criterion(outputs, targets)\n",
        "            loss.backward()\n",
        "            optimizer.step()\n",
        "            running_loss += loss.item()\n",
        "\n",
        "        print(f\"Fine-tune Epoch [{epoch+1}/{fine_tune_epochs}], Loss: {running_loss / len(retain_loader):.4f}\")\n",
        "\n",
        "\n",
        "    return net\n"
      ],
      "metadata": {
        "id": "y0pE9QHBsF36"
      },
      "execution_count": null,
      "outputs": []
    },
    {
      "cell_type": "code",
      "source": [
        "model_6 = gradient_reversal_unlearning(model, retain_loader, forget_loader, val_loader, epochs=100, reverse_scale=-0.6,fine_tune_epochs=15)\n",
        "\n",
        "retain_acc = evaluate_accuracy(model_6, retain_loader)\n",
        "forget_acc = evaluate_accuracy(model_6, forget_loader)\n",
        "val_acc = evaluate_accuracy(model_6, val_loader)\n",
        "test_acc = evaluate_accuracy(model_6, test_loader)\n",
        "\n",
        "print(f\"Retain set accuracy: {retain_acc * 100:.2f}%\")\n",
        "print(f\"Forget set accuracy: {forget_acc * 100:.2f}%\")\n",
        "print(f\"Validation set accuracy: {val_acc * 100:.2f}%\")\n",
        "print(f\"Test set accuracy: {test_acc * 100:.2f}%\")\n"
      ],
      "metadata": {
        "colab": {
          "base_uri": "https://localhost:8080/"
        },
        "id": "ZUbC-TMWsG6k",
        "outputId": "92ef42c5-5c9b-4a22-90f0-13e0d6912876"
      },
      "execution_count": null,
      "outputs": [
        {
          "output_type": "stream",
          "name": "stdout",
          "text": [
            "Applying frequent alternation between fine-tuning and gradient reversal...\n",
            "Epoch [1/100] completed.\n",
            "Epoch [2/100] completed.\n",
            "Epoch [3/100] completed.\n",
            "Epoch [4/100] completed.\n",
            "Epoch [5/100] completed.\n",
            "Epoch [6/100] completed.\n",
            "Epoch [7/100] completed.\n",
            "Epoch [8/100] completed.\n",
            "Epoch [9/100] completed.\n",
            "Epoch [10/100] completed.\n",
            "Epoch [11/100] completed.\n",
            "Epoch [12/100] completed.\n",
            "Epoch [13/100] completed.\n",
            "Epoch [14/100] completed.\n",
            "Epoch [15/100] completed.\n",
            "Epoch [16/100] completed.\n",
            "Epoch [17/100] completed.\n",
            "Epoch [18/100] completed.\n",
            "Epoch [19/100] completed.\n",
            "Epoch [20/100] completed.\n",
            "Epoch [21/100] completed.\n",
            "Epoch [22/100] completed.\n",
            "Epoch [23/100] completed.\n",
            "Epoch [24/100] completed.\n",
            "Epoch [25/100] completed.\n",
            "Epoch [26/100] completed.\n",
            "Epoch [27/100] completed.\n",
            "Epoch [28/100] completed.\n",
            "Epoch [29/100] completed.\n",
            "Epoch [30/100] completed.\n",
            "Epoch [31/100] completed.\n",
            "Epoch [32/100] completed.\n",
            "Epoch [33/100] completed.\n",
            "Epoch [34/100] completed.\n",
            "Epoch [35/100] completed.\n",
            "Epoch [36/100] completed.\n",
            "Epoch [37/100] completed.\n",
            "Epoch [38/100] completed.\n",
            "Epoch [39/100] completed.\n",
            "Epoch [40/100] completed.\n",
            "Epoch [41/100] completed.\n",
            "Epoch [42/100] completed.\n",
            "Epoch [43/100] completed.\n",
            "Epoch [44/100] completed.\n",
            "Epoch [45/100] completed.\n",
            "Epoch [46/100] completed.\n",
            "Epoch [47/100] completed.\n",
            "Epoch [48/100] completed.\n",
            "Epoch [49/100] completed.\n",
            "Epoch [50/100] completed.\n",
            "Epoch [51/100] completed.\n",
            "Epoch [52/100] completed.\n",
            "Epoch [53/100] completed.\n",
            "Epoch [54/100] completed.\n",
            "Epoch [55/100] completed.\n",
            "Epoch [56/100] completed.\n",
            "Epoch [57/100] completed.\n",
            "Epoch [58/100] completed.\n",
            "Epoch [59/100] completed.\n",
            "Epoch [60/100] completed.\n",
            "Epoch [61/100] completed.\n",
            "Epoch [62/100] completed.\n",
            "Epoch [63/100] completed.\n",
            "Epoch [64/100] completed.\n",
            "Epoch [65/100] completed.\n",
            "Epoch [66/100] completed.\n",
            "Epoch [67/100] completed.\n",
            "Epoch [68/100] completed.\n",
            "Epoch [69/100] completed.\n",
            "Epoch [70/100] completed.\n",
            "Epoch [71/100] completed.\n",
            "Epoch [72/100] completed.\n",
            "Epoch [73/100] completed.\n",
            "Epoch [74/100] completed.\n",
            "Epoch [75/100] completed.\n",
            "Epoch [76/100] completed.\n",
            "Epoch [77/100] completed.\n",
            "Epoch [78/100] completed.\n",
            "Epoch [79/100] completed.\n",
            "Epoch [80/100] completed.\n",
            "Epoch [81/100] completed.\n",
            "Epoch [82/100] completed.\n",
            "Epoch [83/100] completed.\n",
            "Epoch [84/100] completed.\n",
            "Epoch [85/100] completed.\n",
            "Epoch [86/100] completed.\n",
            "Epoch [87/100] completed.\n",
            "Epoch [88/100] completed.\n",
            "Epoch [89/100] completed.\n",
            "Epoch [90/100] completed.\n",
            "Epoch [91/100] completed.\n",
            "Epoch [92/100] completed.\n",
            "Epoch [93/100] completed.\n",
            "Epoch [94/100] completed.\n",
            "Epoch [95/100] completed.\n",
            "Epoch [96/100] completed.\n",
            "Epoch [97/100] completed.\n",
            "Epoch [98/100] completed.\n",
            "Epoch [99/100] completed.\n",
            "Epoch [100/100] completed.\n",
            "Final fine-tuning on retain set...\n",
            "Fine-tune Epoch [1/15], Loss: 2.7252\n",
            "Fine-tune Epoch [2/15], Loss: 0.2173\n",
            "Fine-tune Epoch [3/15], Loss: 0.1266\n",
            "Fine-tune Epoch [4/15], Loss: 0.0706\n",
            "Fine-tune Epoch [5/15], Loss: 0.0678\n",
            "Fine-tune Epoch [6/15], Loss: 0.0583\n",
            "Fine-tune Epoch [7/15], Loss: 0.0716\n",
            "Fine-tune Epoch [8/15], Loss: 0.0424\n",
            "Fine-tune Epoch [9/15], Loss: 0.0539\n",
            "Fine-tune Epoch [10/15], Loss: 0.0217\n",
            "Fine-tune Epoch [11/15], Loss: 0.0303\n",
            "Fine-tune Epoch [12/15], Loss: 0.0259\n",
            "Fine-tune Epoch [13/15], Loss: 0.0215\n",
            "Fine-tune Epoch [14/15], Loss: 0.0208\n",
            "Fine-tune Epoch [15/15], Loss: 0.0202\n",
            "Retain set accuracy: 100.00%\n",
            "Forget set accuracy: 97.42%\n",
            "Validation set accuracy: 87.46%\n",
            "Test set accuracy: 87.70%\n"
          ]
        }
      ]
    },
    {
      "cell_type": "markdown",
      "source": [
        "#Algorithm 6 - Frequent alternation with final fine-tuning on retain set"
      ],
      "metadata": {
        "id": "AXZZ80HhjCHi"
      }
    },
    {
      "cell_type": "code",
      "source": [
        "import torch.optim as optim\n",
        "from torch import nn\n",
        "\n",
        "def gradient_reversal_with_fine_tune(net, retain_loader, forget_loader, val_loader, epochs=50, reverse_scale=-0.5, fine_tune_epochs=5):\n",
        "    criterion = nn.CrossEntropyLoss()\n",
        "    optimizer = optim.SGD(filter(lambda p: p.requires_grad, net.parameters()), lr=0.001, momentum=0.9, weight_decay=5e-4)\n",
        "\n",
        "    print(\"Applying frequent alternation between fine-tuning and gradient reversal...\")\n",
        "    for epoch in range(epochs):\n",
        "        net.train()\n",
        "\n",
        "        # Alternate between retain and forget set\n",
        "        retain_iter = iter(retain_loader)\n",
        "        forget_iter = iter(forget_loader)\n",
        "\n",
        "        for batch_idx in range(min(len(retain_loader), len(forget_loader))):\n",
        "            # Step 1: Fine-tune on retain set\n",
        "            try:\n",
        "                inputs, targets = next(retain_iter)\n",
        "            except StopIteration:\n",
        "                retain_iter = iter(retain_loader)\n",
        "                inputs, targets = next(retain_iter)\n",
        "            inputs, targets = inputs.to(DEVICE), targets.to(DEVICE)\n",
        "\n",
        "            optimizer.zero_grad()\n",
        "            outputs = net(inputs)\n",
        "            loss = criterion(outputs, targets)\n",
        "            loss.backward()\n",
        "            optimizer.step()\n",
        "\n",
        "            # Step 2: Apply scaled gradient reversal on forget set\n",
        "            try:\n",
        "                inputs, targets = next(forget_iter)\n",
        "            except StopIteration:\n",
        "                forget_iter = iter(forget_loader)\n",
        "                inputs, targets = next(forget_iter)\n",
        "            inputs, targets = inputs.to(DEVICE), targets.to(DEVICE)\n",
        "\n",
        "            optimizer.zero_grad()\n",
        "            outputs = net(inputs)\n",
        "            loss = reverse_scale * criterion(outputs, targets)  # Apply a stronger negative gradient\n",
        "            loss.backward()\n",
        "            optimizer.step()\n",
        "\n",
        "        print(f\"Epoch [{epoch+1}/{epochs}] completed.\")\n",
        "\n",
        "    # Final fine-tuning on retain set\n",
        "    print(\"Final fine-tuning on retain set...\")\n",
        "    for epoch in range(fine_tune_epochs):\n",
        "        running_loss = 0.0\n",
        "        for inputs, targets in retain_loader:\n",
        "            inputs, targets = inputs.to(DEVICE), targets.to(DEVICE)\n",
        "\n",
        "            optimizer.zero_grad()\n",
        "            outputs = net(inputs)\n",
        "            loss = criterion(outputs, targets)\n",
        "            loss.backward()\n",
        "            optimizer.step()\n",
        "            running_loss += loss.item()\n",
        "\n",
        "        print(f\"Fine-tune Epoch [{epoch+1}/{fine_tune_epochs}], Loss: {running_loss / len(retain_loader):.4f}\")\n",
        "\n",
        "    return net\n"
      ],
      "metadata": {
        "id": "GZuEIjMuhH5o"
      },
      "execution_count": null,
      "outputs": []
    },
    {
      "cell_type": "code",
      "source": [
        "model_6 = gradient_reversal_with_fine_tune(model, retain_loader, forget_loader, val_loader, epochs=100, reverse_scale=-0.5, fine_tune_epochs=5)\n",
        "\n",
        "retain_acc = evaluate_accuracy(model_6, retain_loader)\n",
        "forget_acc = evaluate_accuracy(model_6, forget_loader)\n",
        "val_acc = evaluate_accuracy(model_6, val_loader)\n",
        "test_acc = evaluate_accuracy(model_6, test_loader)\n",
        "\n",
        "print(f\"Retain set accuracy: {retain_acc * 100:.2f}%\")\n",
        "print(f\"Forget set accuracy: {forget_acc * 100:.2f}%\")\n",
        "print(f\"Validation set accuracy: {val_acc * 100:.2f}%\")\n",
        "print(f\"Test set accuracy: {test_acc * 100:.2f}%\")\n"
      ],
      "metadata": {
        "colab": {
          "base_uri": "https://localhost:8080/"
        },
        "id": "bCVEHnlXjF4i",
        "outputId": "1b2dd628-0164-4b82-e17b-ddc4104baf9d"
      },
      "execution_count": null,
      "outputs": [
        {
          "output_type": "stream",
          "name": "stdout",
          "text": [
            "Applying frequent alternation between fine-tuning and gradient reversal...\n",
            "Epoch [1/100] completed.\n",
            "Epoch [2/100] completed.\n",
            "Epoch [3/100] completed.\n",
            "Epoch [4/100] completed.\n",
            "Epoch [5/100] completed.\n",
            "Epoch [6/100] completed.\n",
            "Epoch [7/100] completed.\n",
            "Epoch [8/100] completed.\n",
            "Epoch [9/100] completed.\n",
            "Epoch [10/100] completed.\n",
            "Epoch [11/100] completed.\n",
            "Epoch [12/100] completed.\n",
            "Epoch [13/100] completed.\n",
            "Epoch [14/100] completed.\n",
            "Epoch [15/100] completed.\n",
            "Epoch [16/100] completed.\n",
            "Epoch [17/100] completed.\n",
            "Epoch [18/100] completed.\n",
            "Epoch [19/100] completed.\n",
            "Epoch [20/100] completed.\n",
            "Epoch [21/100] completed.\n",
            "Epoch [22/100] completed.\n",
            "Epoch [23/100] completed.\n",
            "Epoch [24/100] completed.\n",
            "Epoch [25/100] completed.\n",
            "Epoch [26/100] completed.\n",
            "Epoch [27/100] completed.\n",
            "Epoch [28/100] completed.\n",
            "Epoch [29/100] completed.\n",
            "Epoch [30/100] completed.\n",
            "Epoch [31/100] completed.\n",
            "Epoch [32/100] completed.\n",
            "Epoch [33/100] completed.\n",
            "Epoch [34/100] completed.\n",
            "Epoch [35/100] completed.\n",
            "Epoch [36/100] completed.\n",
            "Epoch [37/100] completed.\n",
            "Epoch [38/100] completed.\n",
            "Epoch [39/100] completed.\n",
            "Epoch [40/100] completed.\n",
            "Epoch [41/100] completed.\n",
            "Epoch [42/100] completed.\n",
            "Epoch [43/100] completed.\n",
            "Epoch [44/100] completed.\n",
            "Epoch [45/100] completed.\n",
            "Epoch [46/100] completed.\n",
            "Epoch [47/100] completed.\n",
            "Epoch [48/100] completed.\n",
            "Epoch [49/100] completed.\n",
            "Epoch [50/100] completed.\n",
            "Epoch [51/100] completed.\n",
            "Epoch [52/100] completed.\n",
            "Epoch [53/100] completed.\n",
            "Epoch [54/100] completed.\n",
            "Epoch [55/100] completed.\n",
            "Epoch [56/100] completed.\n",
            "Epoch [57/100] completed.\n",
            "Epoch [58/100] completed.\n",
            "Epoch [59/100] completed.\n",
            "Epoch [60/100] completed.\n",
            "Epoch [61/100] completed.\n",
            "Epoch [62/100] completed.\n",
            "Epoch [63/100] completed.\n",
            "Epoch [64/100] completed.\n",
            "Epoch [65/100] completed.\n",
            "Epoch [66/100] completed.\n",
            "Epoch [67/100] completed.\n",
            "Epoch [68/100] completed.\n",
            "Epoch [69/100] completed.\n",
            "Epoch [70/100] completed.\n",
            "Epoch [71/100] completed.\n",
            "Epoch [72/100] completed.\n",
            "Epoch [73/100] completed.\n",
            "Epoch [74/100] completed.\n",
            "Epoch [75/100] completed.\n",
            "Epoch [76/100] completed.\n",
            "Epoch [77/100] completed.\n",
            "Epoch [78/100] completed.\n",
            "Epoch [79/100] completed.\n",
            "Epoch [80/100] completed.\n",
            "Epoch [81/100] completed.\n",
            "Epoch [82/100] completed.\n",
            "Epoch [83/100] completed.\n",
            "Epoch [84/100] completed.\n",
            "Epoch [85/100] completed.\n",
            "Epoch [86/100] completed.\n",
            "Epoch [87/100] completed.\n",
            "Epoch [88/100] completed.\n",
            "Epoch [89/100] completed.\n",
            "Epoch [90/100] completed.\n",
            "Epoch [91/100] completed.\n",
            "Epoch [92/100] completed.\n",
            "Epoch [93/100] completed.\n",
            "Epoch [94/100] completed.\n",
            "Epoch [95/100] completed.\n",
            "Epoch [96/100] completed.\n",
            "Epoch [97/100] completed.\n",
            "Epoch [98/100] completed.\n",
            "Epoch [99/100] completed.\n",
            "Epoch [100/100] completed.\n",
            "Final fine-tuning on retain set...\n",
            "Fine-tune Epoch [1/5], Loss: 11.5035\n",
            "Fine-tune Epoch [2/5], Loss: 1.8864\n",
            "Fine-tune Epoch [3/5], Loss: 1.6462\n",
            "Fine-tune Epoch [4/5], Loss: 0.9304\n",
            "Fine-tune Epoch [5/5], Loss: 0.8907\n",
            "Retain set accuracy: 99.93%\n",
            "Forget set accuracy: 95.64%\n",
            "Validation set accuracy: 86.76%\n",
            "Test set accuracy: 86.86%\n"
          ]
        }
      ]
    },
    {
      "cell_type": "markdown",
      "source": [
        "#Hybrid Models:"
      ],
      "metadata": {
        "id": "puJgpDU-in_9"
      }
    },
    {
      "cell_type": "code",
      "source": [
        "def evaluate_accuracy(net, loader):\n",
        "    net.eval()\n",
        "    correct = 0\n",
        "    total = 0\n",
        "\n",
        "    with torch.no_grad():\n",
        "        for inputs, targets in loader:\n",
        "            inputs, targets = inputs.to(DEVICE), targets.to(DEVICE)\n",
        "            outputs = net(inputs)\n",
        "            _, predicted = outputs.max(1)\n",
        "            total += targets.size(0)\n",
        "            correct += predicted.eq(targets).sum().item()\n",
        "\n",
        "    return correct / total"
      ],
      "metadata": {
        "id": "MX0_MFxrjkun"
      },
      "execution_count": null,
      "outputs": []
    },
    {
      "cell_type": "markdown",
      "source": [
        "Model 1"
      ],
      "metadata": {
        "id": "Q2lC32pbq6Yj"
      }
    },
    {
      "cell_type": "code",
      "source": [
        "import torch.optim as optim\n",
        "from torch import nn\n",
        "\n",
        "def hybrid_unlearning(\n",
        "    net, retain_loader, forget_loader, val_loader, epochs=50, max_reverse_scale=-0.5\n",
        "):\n",
        "\n",
        "    criterion = nn.CrossEntropyLoss()\n",
        "    optimizer = optim.SGD(\n",
        "        filter(lambda p: p.requires_grad, net.parameters()),\n",
        "        lr=0.001,\n",
        "        momentum=0.9,\n",
        "        weight_decay=5e-4,\n",
        "    )\n",
        "\n",
        "    # Dynamic scaling function\n",
        "    def dynamic_reverse_scale(epoch, total_epochs):\n",
        "        return max_reverse_scale * (epoch / total_epochs)\n",
        "\n",
        "    print(\"Starting hybrid unlearning...\")\n",
        "    for epoch in range(epochs):\n",
        "        net.train()\n",
        "\n",
        "        # Calculate the dynamic reverse scaling factor\n",
        "        reverse_scale = dynamic_reverse_scale(epoch, epochs)\n",
        "\n",
        "        # Iterators for retain and forget loaders\n",
        "        retain_iter = iter(retain_loader)\n",
        "        forget_iter = iter(forget_loader)\n",
        "\n",
        "        for batch_idx in range(min(len(retain_loader), len(forget_loader))):\n",
        "            # Step 1: Fine-tune on retain set\n",
        "            try:\n",
        "                inputs, targets = next(retain_iter)\n",
        "            except StopIteration:\n",
        "                retain_iter = iter(retain_loader)\n",
        "                inputs, targets = next(retain_iter)\n",
        "\n",
        "            inputs, targets = inputs.to(DEVICE), targets.to(DEVICE)\n",
        "\n",
        "            optimizer.zero_grad()\n",
        "            outputs = net(inputs)\n",
        "            loss = criterion(outputs, targets)\n",
        "            loss.backward()\n",
        "            optimizer.step()\n",
        "\n",
        "            # Step 2: Apply scaled gradient reversal on forget set\n",
        "            try:\n",
        "                inputs, targets = next(forget_iter)\n",
        "            except StopIteration:\n",
        "                forget_iter = iter(forget_loader)\n",
        "                inputs, targets = next(forget_iter)\n",
        "\n",
        "            inputs, targets = inputs.to(DEVICE), targets.to(DEVICE)\n",
        "\n",
        "            optimizer.zero_grad()\n",
        "            outputs = net(inputs)\n",
        "            loss = reverse_scale * criterion(outputs, targets)  # Scaled gradient reversal\n",
        "            loss.backward()\n",
        "            optimizer.step()\n",
        "\n",
        "        print(f\"Epoch [{epoch + 1}/{epochs}] completed with reverse_scale={reverse_scale:.3f}\")\n",
        "\n",
        "    return net\n",
        "\n",
        "# Train the hybrid model\n",
        "model_hybrid = hybrid_unlearning(model, retain_loader, forget_loader, val_loader, epochs=50, max_reverse_scale=-0.6)\n",
        "\n",
        "# Evaluate the hybrid model\n",
        "retain_acc = evaluate_accuracy(model_hybrid, retain_loader)\n",
        "forget_acc = evaluate_accuracy(model_hybrid, forget_loader)\n",
        "val_acc = evaluate_accuracy(model_hybrid, val_loader)\n",
        "test_acc = evaluate_accuracy(model_hybrid, test_loader)\n",
        "\n",
        "print(f\"Hybrid Model Retain Accuracy: {retain_acc * 100:.2f}%\")\n",
        "print(f\"Hybrid Model Forget Accuracy: {forget_acc * 100:.2f}%\")\n",
        "print(f\"Hybrid Model Validation Accuracy: {val_acc * 100:.2f}%\")\n",
        "print(f\"Hybrid Model Test Accuracy: {test_acc * 100:.2f}%\")\n"
      ],
      "metadata": {
        "id": "eSoauhmSjGcA",
        "colab": {
          "base_uri": "https://localhost:8080/"
        },
        "outputId": "597c4589-dc6c-45a1-c1b4-7c3669ea45ac"
      },
      "execution_count": null,
      "outputs": [
        {
          "output_type": "stream",
          "name": "stdout",
          "text": [
            "Starting hybrid unlearning...\n",
            "Epoch [1/50] completed with reverse_scale=-0.000\n",
            "Epoch [2/50] completed with reverse_scale=-0.012\n",
            "Epoch [3/50] completed with reverse_scale=-0.024\n",
            "Epoch [4/50] completed with reverse_scale=-0.036\n",
            "Epoch [5/50] completed with reverse_scale=-0.048\n",
            "Epoch [6/50] completed with reverse_scale=-0.060\n",
            "Epoch [7/50] completed with reverse_scale=-0.072\n",
            "Epoch [8/50] completed with reverse_scale=-0.084\n",
            "Epoch [9/50] completed with reverse_scale=-0.096\n",
            "Epoch [10/50] completed with reverse_scale=-0.108\n",
            "Epoch [11/50] completed with reverse_scale=-0.120\n",
            "Epoch [12/50] completed with reverse_scale=-0.132\n",
            "Epoch [13/50] completed with reverse_scale=-0.144\n",
            "Epoch [14/50] completed with reverse_scale=-0.156\n",
            "Epoch [15/50] completed with reverse_scale=-0.168\n",
            "Epoch [16/50] completed with reverse_scale=-0.180\n",
            "Epoch [17/50] completed with reverse_scale=-0.192\n",
            "Epoch [18/50] completed with reverse_scale=-0.204\n",
            "Epoch [19/50] completed with reverse_scale=-0.216\n",
            "Epoch [20/50] completed with reverse_scale=-0.228\n",
            "Epoch [21/50] completed with reverse_scale=-0.240\n",
            "Epoch [22/50] completed with reverse_scale=-0.252\n",
            "Epoch [23/50] completed with reverse_scale=-0.264\n",
            "Epoch [24/50] completed with reverse_scale=-0.276\n",
            "Epoch [25/50] completed with reverse_scale=-0.288\n",
            "Epoch [26/50] completed with reverse_scale=-0.300\n",
            "Epoch [27/50] completed with reverse_scale=-0.312\n",
            "Epoch [28/50] completed with reverse_scale=-0.324\n",
            "Epoch [29/50] completed with reverse_scale=-0.336\n",
            "Epoch [30/50] completed with reverse_scale=-0.348\n",
            "Epoch [31/50] completed with reverse_scale=-0.360\n",
            "Epoch [32/50] completed with reverse_scale=-0.372\n",
            "Epoch [33/50] completed with reverse_scale=-0.384\n",
            "Epoch [34/50] completed with reverse_scale=-0.396\n",
            "Epoch [35/50] completed with reverse_scale=-0.408\n",
            "Epoch [36/50] completed with reverse_scale=-0.420\n",
            "Epoch [37/50] completed with reverse_scale=-0.432\n",
            "Epoch [38/50] completed with reverse_scale=-0.444\n",
            "Epoch [39/50] completed with reverse_scale=-0.456\n",
            "Epoch [40/50] completed with reverse_scale=-0.468\n",
            "Epoch [41/50] completed with reverse_scale=-0.480\n",
            "Epoch [42/50] completed with reverse_scale=-0.492\n",
            "Epoch [43/50] completed with reverse_scale=-0.504\n",
            "Epoch [44/50] completed with reverse_scale=-0.516\n",
            "Epoch [45/50] completed with reverse_scale=-0.528\n",
            "Epoch [46/50] completed with reverse_scale=-0.540\n",
            "Epoch [47/50] completed with reverse_scale=-0.552\n",
            "Epoch [48/50] completed with reverse_scale=-0.564\n",
            "Epoch [49/50] completed with reverse_scale=-0.576\n",
            "Epoch [50/50] completed with reverse_scale=-0.588\n",
            "Hybrid Model Retain Accuracy: 46.51%\n",
            "Hybrid Model Forget Accuracy: 37.22%\n",
            "Hybrid Model Validation Accuracy: 44.56%\n",
            "Hybrid Model Test Accuracy: 44.86%\n"
          ]
        }
      ]
    },
    {
      "cell_type": "markdown",
      "source": [
        "Model 2: improved version"
      ],
      "metadata": {
        "id": "-frL4aSKkoNn"
      }
    },
    {
      "cell_type": "code",
      "source": [
        "def improved_hybrid_unlearning(\n",
        "    net, retain_loader, forget_loader, val_loader, epochs=50, max_reverse_scale=-0.8, fine_tune_epochs=10\n",
        "):\n",
        "    \"\"\"\n",
        "    Implements an improved hybrid unlearning strategy with dynamic scaling and final fine-tuning.\n",
        "\n",
        "    Args:\n",
        "        net: The model to be trained.\n",
        "        retain_loader: DataLoader for the retain set.\n",
        "        forget_loader: DataLoader for the forget set.\n",
        "        val_loader: DataLoader for validation.\n",
        "        epochs: Number of alternating training epochs.\n",
        "        max_reverse_scale: Maximum gradient reversal scale.\n",
        "        fine_tune_epochs: Final epochs for retain-only fine-tuning.\n",
        "\n",
        "    Returns:\n",
        "        net: The trained model.\n",
        "    \"\"\"\n",
        "    criterion = nn.CrossEntropyLoss()\n",
        "    optimizer = optim.SGD(\n",
        "        filter(lambda p: p.requires_grad, net.parameters()),\n",
        "        lr=0.001,\n",
        "        momentum=0.9,\n",
        "        weight_decay=5e-4,\n",
        "    )\n",
        "\n",
        "    # Dynamic scaling function (exponential scaling)\n",
        "    def dynamic_reverse_scale(epoch, total_epochs):\n",
        "        return max_reverse_scale * (epoch / total_epochs) ** 2\n",
        "\n",
        "    print(\"Starting improved hybrid unlearning...\")\n",
        "    for epoch in range(epochs):\n",
        "        net.train()\n",
        "\n",
        "        # Calculate the dynamic reverse scaling factor\n",
        "        reverse_scale = dynamic_reverse_scale(epoch, epochs)\n",
        "\n",
        "        # Iterators for retain and forget loaders\n",
        "        retain_iter = iter(retain_loader)\n",
        "        forget_iter = iter(forget_loader)\n",
        "\n",
        "        for batch_idx in range(min(len(retain_loader), len(forget_loader))):\n",
        "            # Step 1: Fine-tune on retain set\n",
        "            try:\n",
        "                inputs, targets = next(retain_iter)\n",
        "            except StopIteration:\n",
        "                retain_iter = iter(retain_loader)\n",
        "                inputs, targets = next(retain_iter)\n",
        "\n",
        "            inputs, targets = inputs.to(DEVICE), targets.to(DEVICE)\n",
        "\n",
        "            optimizer.zero_grad()\n",
        "            outputs = net(inputs)\n",
        "            loss = criterion(outputs, targets)\n",
        "            loss.backward()\n",
        "            optimizer.step()\n",
        "\n",
        "            # Step 2: Apply scaled gradient reversal on forget set\n",
        "            try:\n",
        "                inputs, targets = next(forget_iter)\n",
        "            except StopIteration:\n",
        "                forget_iter = iter(forget_loader)\n",
        "                inputs, targets = next(forget_iter)\n",
        "\n",
        "            inputs, targets = inputs.to(DEVICE), targets.to(DEVICE)\n",
        "\n",
        "            optimizer.zero_grad()\n",
        "            outputs = net(inputs)\n",
        "            loss = reverse_scale * criterion(outputs, targets)  # Scaled gradient reversal\n",
        "            loss.backward()\n",
        "            optimizer.step()\n",
        "\n",
        "        print(f\"Epoch [{epoch + 1}/{epochs}] completed with reverse_scale={reverse_scale:.3f}\")\n",
        "\n",
        "    # Final fine-tuning phase on retain set\n",
        "    print(\"Final fine-tuning on retain set...\")\n",
        "    for epoch in range(fine_tune_epochs):\n",
        "        net.train()\n",
        "        running_loss = 0.0\n",
        "        for inputs, targets in retain_loader:\n",
        "            inputs, targets = inputs.to(DEVICE), targets.to(DEVICE)\n",
        "\n",
        "            optimizer.zero_grad()\n",
        "            outputs = net(inputs)\n",
        "            loss = criterion(outputs, targets)\n",
        "            loss.backward()\n",
        "            optimizer.step()\n",
        "            running_loss += loss.item()\n",
        "\n",
        "        print(f\"Fine-tune Epoch [{epoch + 1}/{fine_tune_epochs}], Loss: {running_loss / len(retain_loader):.4f}\")\n",
        "\n",
        "    return net\n",
        "\n",
        "# Train the improved hybrid model\n",
        "model_improved_hybrid = improved_hybrid_unlearning(\n",
        "    model, retain_loader, forget_loader, val_loader, epochs=50, max_reverse_scale=-0.8, fine_tune_epochs=10\n",
        ")\n",
        "\n",
        "# Evaluate the improved hybrid model\n",
        "retain_acc = evaluate_accuracy(model_improved_hybrid, retain_loader)\n",
        "forget_acc = evaluate_accuracy(model_improved_hybrid, forget_loader)\n",
        "val_acc = evaluate_accuracy(model_improved_hybrid, val_loader)\n",
        "test_acc = evaluate_accuracy(model_improved_hybrid, test_loader)\n",
        "\n",
        "print(f\"Improved Hybrid Model Retain Accuracy: {retain_acc * 100:.2f}%\")\n",
        "print(f\"Improved Hybrid Model Forget Accuracy: {forget_acc * 100:.2f}%\")\n",
        "print(f\"Improved Hybrid Model Validation Accuracy: {val_acc * 100:.2f}%\")\n",
        "print(f\"Improved Hybrid Model Test Accuracy: {test_acc * 100:.2f}%\")\n"
      ],
      "metadata": {
        "colab": {
          "base_uri": "https://localhost:8080/"
        },
        "id": "dc0EYTpvjK5J",
        "outputId": "f6a73f3e-4468-4531-f708-d934f9eea695"
      },
      "execution_count": null,
      "outputs": [
        {
          "output_type": "stream",
          "name": "stdout",
          "text": [
            "Starting improved hybrid unlearning...\n",
            "Epoch [1/50] completed with reverse_scale=-0.000\n",
            "Epoch [2/50] completed with reverse_scale=-0.000\n",
            "Epoch [3/50] completed with reverse_scale=-0.001\n",
            "Epoch [4/50] completed with reverse_scale=-0.003\n",
            "Epoch [5/50] completed with reverse_scale=-0.005\n",
            "Epoch [6/50] completed with reverse_scale=-0.008\n",
            "Epoch [7/50] completed with reverse_scale=-0.012\n",
            "Epoch [8/50] completed with reverse_scale=-0.016\n",
            "Epoch [9/50] completed with reverse_scale=-0.020\n",
            "Epoch [10/50] completed with reverse_scale=-0.026\n",
            "Epoch [11/50] completed with reverse_scale=-0.032\n",
            "Epoch [12/50] completed with reverse_scale=-0.039\n",
            "Epoch [13/50] completed with reverse_scale=-0.046\n",
            "Epoch [14/50] completed with reverse_scale=-0.054\n",
            "Epoch [15/50] completed with reverse_scale=-0.063\n",
            "Epoch [16/50] completed with reverse_scale=-0.072\n",
            "Epoch [17/50] completed with reverse_scale=-0.082\n",
            "Epoch [18/50] completed with reverse_scale=-0.092\n",
            "Epoch [19/50] completed with reverse_scale=-0.104\n",
            "Epoch [20/50] completed with reverse_scale=-0.116\n",
            "Epoch [21/50] completed with reverse_scale=-0.128\n",
            "Epoch [22/50] completed with reverse_scale=-0.141\n",
            "Epoch [23/50] completed with reverse_scale=-0.155\n",
            "Epoch [24/50] completed with reverse_scale=-0.169\n",
            "Epoch [25/50] completed with reverse_scale=-0.184\n",
            "Epoch [26/50] completed with reverse_scale=-0.200\n",
            "Epoch [27/50] completed with reverse_scale=-0.216\n",
            "Epoch [28/50] completed with reverse_scale=-0.233\n",
            "Epoch [29/50] completed with reverse_scale=-0.251\n",
            "Epoch [30/50] completed with reverse_scale=-0.269\n",
            "Epoch [31/50] completed with reverse_scale=-0.288\n",
            "Epoch [32/50] completed with reverse_scale=-0.308\n",
            "Epoch [33/50] completed with reverse_scale=-0.328\n",
            "Epoch [34/50] completed with reverse_scale=-0.348\n",
            "Epoch [35/50] completed with reverse_scale=-0.370\n",
            "Epoch [36/50] completed with reverse_scale=-0.392\n",
            "Epoch [37/50] completed with reverse_scale=-0.415\n",
            "Epoch [38/50] completed with reverse_scale=-0.438\n",
            "Epoch [39/50] completed with reverse_scale=-0.462\n",
            "Epoch [40/50] completed with reverse_scale=-0.487\n",
            "Epoch [41/50] completed with reverse_scale=-0.512\n",
            "Epoch [42/50] completed with reverse_scale=-0.538\n",
            "Epoch [43/50] completed with reverse_scale=-0.564\n",
            "Epoch [44/50] completed with reverse_scale=-0.592\n",
            "Epoch [45/50] completed with reverse_scale=-0.620\n",
            "Epoch [46/50] completed with reverse_scale=-0.648\n",
            "Epoch [47/50] completed with reverse_scale=-0.677\n",
            "Epoch [48/50] completed with reverse_scale=-0.707\n",
            "Epoch [49/50] completed with reverse_scale=-0.737\n",
            "Epoch [50/50] completed with reverse_scale=-0.768\n",
            "Final fine-tuning on retain set...\n",
            "Fine-tune Epoch [1/10], Loss: 1.2690\n",
            "Fine-tune Epoch [2/10], Loss: 0.9845\n",
            "Fine-tune Epoch [3/10], Loss: 0.8546\n",
            "Fine-tune Epoch [4/10], Loss: 0.7570\n",
            "Fine-tune Epoch [5/10], Loss: 0.6779\n",
            "Fine-tune Epoch [6/10], Loss: 0.6011\n",
            "Fine-tune Epoch [7/10], Loss: 0.5327\n",
            "Fine-tune Epoch [8/10], Loss: 0.4646\n",
            "Fine-tune Epoch [9/10], Loss: 0.4028\n",
            "Fine-tune Epoch [10/10], Loss: 0.3399\n",
            "Improved Hybrid Model Retain Accuracy: 93.27%\n",
            "Improved Hybrid Model Forget Accuracy: 67.82%\n",
            "Improved Hybrid Model Validation Accuracy: 72.26%\n",
            "Improved Hybrid Model Test Accuracy: 71.70%\n"
          ]
        }
      ]
    },
    {
      "cell_type": "markdown",
      "source": [
        "Model 3: improved version"
      ],
      "metadata": {
        "id": "lWmHZ2ICm1dx"
      }
    },
    {
      "cell_type": "code",
      "source": [
        "import torch.optim as optim\n",
        "from torch import nn\n",
        "\n",
        "def refined_hybrid_unlearning(\n",
        "    net, retain_loader, forget_loader, val_loader, epochs=50, max_reverse_scale=-1.0, fine_tune_epochs=10\n",
        "):\n",
        "    \"\"\"\n",
        "    Refined hybrid unlearning strategy with stronger forgetting, layer unfreezing, and intermediate fine-tuning.\n",
        "\n",
        "    Args:\n",
        "        net: The model to be trained.\n",
        "        retain_loader: DataLoader for the retain set.\n",
        "        forget_loader: DataLoader for the forget set.\n",
        "        val_loader: DataLoader for validation.\n",
        "        epochs: Number of alternating training epochs.\n",
        "        max_reverse_scale: Maximum gradient reversal scale.\n",
        "        fine_tune_epochs: Final epochs for retain-only fine-tuning.\n",
        "\n",
        "    Returns:\n",
        "        net: The trained model.\n",
        "    \"\"\"\n",
        "    criterion = nn.CrossEntropyLoss()\n",
        "    optimizer = optim.SGD(\n",
        "        filter(lambda p: p.requires_grad, net.parameters()),\n",
        "        lr=0.001,\n",
        "        momentum=0.9,\n",
        "        weight_decay=5e-4,\n",
        "    )\n",
        "\n",
        "    # Dynamic scaling function (exponential scaling)\n",
        "    def dynamic_reverse_scale(epoch, total_epochs):\n",
        "        return max_reverse_scale * (epoch / total_epochs) ** 2\n",
        "\n",
        "    print(\"Starting refined hybrid unlearning...\")\n",
        "    best_val_acc = 0.0\n",
        "\n",
        "    for epoch in range(epochs):\n",
        "        net.train()\n",
        "\n",
        "        # Adjust layer freezing over epochs\n",
        "        if epoch == int(epochs * 0.3):\n",
        "            for name, param in net.named_parameters():\n",
        "                if \"layer2\" in name or \"layer1\" in name:\n",
        "                    param.requires_grad = True\n",
        "\n",
        "        # Calculate the dynamic reverse scaling factor\n",
        "        reverse_scale = dynamic_reverse_scale(epoch, epochs)\n",
        "\n",
        "        # Alternate between retain and forget phases (2:1 ratio)\n",
        "        retain_iter = iter(retain_loader)\n",
        "        forget_iter = iter(forget_loader)\n",
        "\n",
        "        for batch_idx in range(len(retain_loader)):\n",
        "            # Step 1: Fine-tune on retain set\n",
        "            inputs, targets = next(retain_iter, (None, None))\n",
        "            if inputs is not None:\n",
        "                inputs, targets = inputs.to(DEVICE), targets.to(DEVICE)\n",
        "\n",
        "                optimizer.zero_grad()\n",
        "                outputs = net(inputs)\n",
        "                loss = criterion(outputs, targets)\n",
        "                loss.backward()\n",
        "                optimizer.step()\n",
        "\n",
        "            # Step 2: Apply scaled gradient reversal on forget set (twice per retain batch)\n",
        "            for _ in range(2):  # Process 2 forget batches for every retain batch\n",
        "                inputs, targets = next(forget_iter, (None, None))\n",
        "                if inputs is not None:\n",
        "                    inputs, targets = inputs.to(DEVICE), targets.to(DEVICE)\n",
        "\n",
        "                    optimizer.zero_grad()\n",
        "                    outputs = net(inputs)\n",
        "                    loss = reverse_scale * criterion(outputs, targets)  # Scaled gradient reversal\n",
        "                    loss.backward()\n",
        "                    optimizer.step()\n",
        "\n",
        "        # Intermediate fine-tuning on retain set every 10 epochs\n",
        "        if (epoch + 1) % 10 == 0:\n",
        "            print(f\"Intermediate fine-tuning at Epoch {epoch + 1}\")\n",
        "            for inputs, targets in retain_loader:\n",
        "                inputs, targets = inputs.to(DEVICE), targets.to(DEVICE)\n",
        "\n",
        "                optimizer.zero_grad()\n",
        "                outputs = net(inputs)\n",
        "                loss = criterion(outputs, targets)\n",
        "                loss.backward()\n",
        "                optimizer.step()\n",
        "\n",
        "        # Evaluate validation accuracy\n",
        "        val_acc = evaluate_accuracy(net, val_loader)\n",
        "        print(f\"Epoch [{epoch + 1}/{epochs}] completed with reverse_scale={reverse_scale:.3f}, Validation Accuracy: {val_acc * 100:.2f}%\")\n",
        "\n",
        "        # Save best model based on validation accuracy\n",
        "        if val_acc > best_val_acc:\n",
        "            best_val_acc = val_acc\n",
        "            best_model = net.state_dict()\n",
        "\n",
        "    # Load the best model\n",
        "    net.load_state_dict(best_model)\n",
        "\n",
        "    # Final fine-tuning phase on retain set\n",
        "    print(\"Final fine-tuning on retain set...\")\n",
        "    for epoch in range(fine_tune_epochs):\n",
        "        net.train()\n",
        "        running_loss = 0.0\n",
        "        for inputs, targets in retain_loader:\n",
        "            inputs, targets = inputs.to(DEVICE), targets.to(DEVICE)\n",
        "\n",
        "            optimizer.zero_grad()\n",
        "            outputs = net(inputs)\n",
        "            loss = criterion(outputs, targets)\n",
        "            loss.backward()\n",
        "            optimizer.step()\n",
        "            running_loss += loss.item()\n",
        "\n",
        "        print(f\"Fine-tune Epoch [{epoch + 1}/{fine_tune_epochs}], Loss: {running_loss / len(retain_loader):.4f}\")\n",
        "\n",
        "    return net\n",
        "\n",
        "# Train the refined hybrid model\n",
        "model_refined_hybrid = refined_hybrid_unlearning(\n",
        "    model, retain_loader, forget_loader, val_loader, epochs=50, max_reverse_scale=-1.0, fine_tune_epochs=10\n",
        ")\n",
        "\n",
        "# Evaluate the refined hybrid model\n",
        "retain_acc = evaluate_accuracy(model_refined_hybrid, retain_loader)\n",
        "forget_acc = evaluate_accuracy(model_refined_hybrid, forget_loader)\n",
        "val_acc = evaluate_accuracy(model_refined_hybrid, val_loader)\n",
        "test_acc = evaluate_accuracy(model_refined_hybrid, test_loader)\n",
        "\n",
        "print(f\"Refined Hybrid Model Retain Accuracy: {retain_acc * 100:.2f}%\")\n",
        "print(f\"Refined Hybrid Model Forget Accuracy: {forget_acc * 100:.2f}%\")\n",
        "print(f\"Refined Hybrid Model Validation Accuracy: {val_acc * 100:.2f}%\")\n",
        "print(f\"Refined Hybrid Model Test Accuracy: {test_acc * 100:.2f}%\")\n"
      ],
      "metadata": {
        "colab": {
          "base_uri": "https://localhost:8080/"
        },
        "id": "aGpfRLCYkqss",
        "outputId": "528a72fd-0dea-4304-c104-051019f458c9"
      },
      "execution_count": null,
      "outputs": [
        {
          "output_type": "stream",
          "name": "stdout",
          "text": [
            "Starting refined hybrid unlearning...\n",
            "Epoch [1/50] completed with reverse_scale=-0.000, Validation Accuracy: 88.12%\n",
            "Epoch [2/50] completed with reverse_scale=-0.000, Validation Accuracy: 88.54%\n",
            "Epoch [3/50] completed with reverse_scale=-0.002, Validation Accuracy: 88.76%\n",
            "Epoch [4/50] completed with reverse_scale=-0.004, Validation Accuracy: 88.58%\n",
            "Epoch [5/50] completed with reverse_scale=-0.006, Validation Accuracy: 88.60%\n",
            "Epoch [6/50] completed with reverse_scale=-0.010, Validation Accuracy: 88.44%\n",
            "Epoch [7/50] completed with reverse_scale=-0.014, Validation Accuracy: 88.50%\n",
            "Epoch [8/50] completed with reverse_scale=-0.020, Validation Accuracy: 88.70%\n",
            "Epoch [9/50] completed with reverse_scale=-0.026, Validation Accuracy: 88.68%\n",
            "Intermediate fine-tuning at Epoch 10\n",
            "Epoch [10/50] completed with reverse_scale=-0.032, Validation Accuracy: 88.66%\n",
            "Epoch [11/50] completed with reverse_scale=-0.040, Validation Accuracy: 88.64%\n",
            "Epoch [12/50] completed with reverse_scale=-0.048, Validation Accuracy: 88.50%\n",
            "Epoch [13/50] completed with reverse_scale=-0.058, Validation Accuracy: 88.68%\n",
            "Epoch [14/50] completed with reverse_scale=-0.068, Validation Accuracy: 88.72%\n",
            "Epoch [15/50] completed with reverse_scale=-0.078, Validation Accuracy: 88.58%\n",
            "Epoch [16/50] completed with reverse_scale=-0.090, Validation Accuracy: 88.58%\n",
            "Epoch [17/50] completed with reverse_scale=-0.102, Validation Accuracy: 88.42%\n",
            "Epoch [18/50] completed with reverse_scale=-0.116, Validation Accuracy: 88.76%\n",
            "Epoch [19/50] completed with reverse_scale=-0.130, Validation Accuracy: 88.60%\n",
            "Intermediate fine-tuning at Epoch 20\n",
            "Epoch [20/50] completed with reverse_scale=-0.144, Validation Accuracy: 88.50%\n",
            "Epoch [21/50] completed with reverse_scale=-0.160, Validation Accuracy: 88.66%\n",
            "Epoch [22/50] completed with reverse_scale=-0.176, Validation Accuracy: 88.60%\n",
            "Epoch [23/50] completed with reverse_scale=-0.194, Validation Accuracy: 88.56%\n",
            "Epoch [24/50] completed with reverse_scale=-0.212, Validation Accuracy: 88.44%\n",
            "Epoch [25/50] completed with reverse_scale=-0.230, Validation Accuracy: 88.50%\n",
            "Epoch [26/50] completed with reverse_scale=-0.250, Validation Accuracy: 88.28%\n",
            "Epoch [27/50] completed with reverse_scale=-0.270, Validation Accuracy: 88.34%\n",
            "Epoch [28/50] completed with reverse_scale=-0.292, Validation Accuracy: 88.18%\n",
            "Epoch [29/50] completed with reverse_scale=-0.314, Validation Accuracy: 88.32%\n",
            "Intermediate fine-tuning at Epoch 30\n",
            "Epoch [30/50] completed with reverse_scale=-0.336, Validation Accuracy: 88.16%\n",
            "Epoch [31/50] completed with reverse_scale=-0.360, Validation Accuracy: 88.00%\n",
            "Epoch [32/50] completed with reverse_scale=-0.384, Validation Accuracy: 87.82%\n",
            "Epoch [33/50] completed with reverse_scale=-0.410, Validation Accuracy: 87.76%\n",
            "Epoch [34/50] completed with reverse_scale=-0.436, Validation Accuracy: 87.46%\n",
            "Epoch [35/50] completed with reverse_scale=-0.462, Validation Accuracy: 87.20%\n",
            "Epoch [36/50] completed with reverse_scale=-0.490, Validation Accuracy: 87.10%\n",
            "Epoch [37/50] completed with reverse_scale=-0.518, Validation Accuracy: 87.34%\n",
            "Epoch [38/50] completed with reverse_scale=-0.548, Validation Accuracy: 87.70%\n",
            "Epoch [39/50] completed with reverse_scale=-0.578, Validation Accuracy: 87.28%\n",
            "Intermediate fine-tuning at Epoch 40\n",
            "Epoch [40/50] completed with reverse_scale=-0.608, Validation Accuracy: 87.18%\n",
            "Epoch [41/50] completed with reverse_scale=-0.640, Validation Accuracy: 87.10%\n",
            "Epoch [42/50] completed with reverse_scale=-0.672, Validation Accuracy: 86.76%\n",
            "Epoch [43/50] completed with reverse_scale=-0.706, Validation Accuracy: 86.98%\n",
            "Epoch [44/50] completed with reverse_scale=-0.740, Validation Accuracy: 86.84%\n",
            "Epoch [45/50] completed with reverse_scale=-0.774, Validation Accuracy: 85.94%\n",
            "Epoch [46/50] completed with reverse_scale=-0.810, Validation Accuracy: 86.10%\n",
            "Epoch [47/50] completed with reverse_scale=-0.846, Validation Accuracy: 85.62%\n",
            "Epoch [48/50] completed with reverse_scale=-0.884, Validation Accuracy: 84.74%\n",
            "Epoch [49/50] completed with reverse_scale=-0.922, Validation Accuracy: 84.34%\n",
            "Intermediate fine-tuning at Epoch 50\n",
            "Epoch [50/50] completed with reverse_scale=-0.960, Validation Accuracy: 84.64%\n",
            "Final fine-tuning on retain set...\n",
            "Fine-tune Epoch [1/10], Loss: 0.0503\n",
            "Fine-tune Epoch [2/10], Loss: 0.0243\n",
            "Fine-tune Epoch [3/10], Loss: 0.0143\n",
            "Fine-tune Epoch [4/10], Loss: 0.0098\n",
            "Fine-tune Epoch [5/10], Loss: 0.0066\n",
            "Fine-tune Epoch [6/10], Loss: 0.0054\n",
            "Fine-tune Epoch [7/10], Loss: 0.0041\n",
            "Fine-tune Epoch [8/10], Loss: 0.0038\n",
            "Fine-tune Epoch [9/10], Loss: 0.0031\n",
            "Fine-tune Epoch [10/10], Loss: 0.0024\n",
            "Refined Hybrid Model Retain Accuracy: 100.00%\n",
            "Refined Hybrid Model Forget Accuracy: 71.76%\n",
            "Refined Hybrid Model Validation Accuracy: 85.36%\n",
            "Refined Hybrid Model Test Accuracy: 85.08%\n"
          ]
        }
      ]
    },
    {
      "cell_type": "markdown",
      "source": [
        "Model 4: new and better"
      ],
      "metadata": {
        "id": "kq86DTO7pOuy"
      }
    },
    {
      "cell_type": "code",
      "source": [
        "import torch.optim as optim\n",
        "from torch import nn\n",
        "\n",
        "def refined_hybrid_unlearning(\n",
        "    net, retain_loader, forget_loader, val_loader, epochs=50, max_reverse_scale=-1.0, fine_tune_epochs=10\n",
        "):\n",
        "\n",
        "    criterion = nn.CrossEntropyLoss()\n",
        "    optimizer = optim.SGD(\n",
        "        filter(lambda p: p.requires_grad, net.parameters()),\n",
        "        lr=0.001,\n",
        "        momentum=0.9,\n",
        "        weight_decay=5e-4,\n",
        "    )\n",
        "\n",
        "    # Dynamic scaling function (exponential scaling)\n",
        "    def dynamic_reverse_scale(epoch, total_epochs):\n",
        "        return max_reverse_scale * (epoch / total_epochs) ** 2\n",
        "\n",
        "    # Metrics storage\n",
        "    retain_accuracies = []\n",
        "    forget_accuracies = []\n",
        "    validation_accuracies = []\n",
        "\n",
        "    print(\"Starting refined hybrid unlearning...\")\n",
        "    best_val_acc = 0.0\n",
        "\n",
        "    for epoch in range(epochs):\n",
        "        net.train()\n",
        "\n",
        "        # Adjust layer freezing over epochs\n",
        "        if epoch == int(epochs * 0.3):\n",
        "            for name, param in net.named_parameters():\n",
        "                if \"layer2\" in name or \"layer1\" in name:\n",
        "                    param.requires_grad = True\n",
        "\n",
        "        # Calculate the dynamic reverse scaling factor\n",
        "        reverse_scale = dynamic_reverse_scale(epoch, epochs)\n",
        "\n",
        "        # Alternate between retain and forget phases (2:1 ratio)\n",
        "        retain_iter = iter(retain_loader)\n",
        "        forget_iter = iter(forget_loader)\n",
        "\n",
        "        for batch_idx in range(len(retain_loader)):\n",
        "            # Step 1: Fine-tune on retain set\n",
        "            inputs, targets = next(retain_iter, (None, None))\n",
        "            if inputs is not None:\n",
        "                inputs, targets = inputs.to(DEVICE), targets.to(DEVICE)\n",
        "\n",
        "                optimizer.zero_grad()\n",
        "                outputs = net(inputs)\n",
        "                loss = criterion(outputs, targets)\n",
        "                loss.backward()\n",
        "                optimizer.step()\n",
        "\n",
        "            # Step 2: Apply scaled gradient reversal on forget set (twice per retain batch)\n",
        "            for _ in range(2):  # Process 2 forget batches for every retain batch\n",
        "                inputs, targets = next(forget_iter, (None, None))\n",
        "                if inputs is not None:\n",
        "                    inputs, targets = inputs.to(DEVICE), targets.to(DEVICE)\n",
        "\n",
        "                    optimizer.zero_grad()\n",
        "                    outputs = net(inputs)\n",
        "                    loss = reverse_scale * criterion(outputs, targets)  # Scaled gradient reversal\n",
        "                    loss.backward()\n",
        "                    optimizer.step()\n",
        "\n",
        "        # Intermediate fine-tuning on retain set every 10 epochs\n",
        "        if (epoch + 1) % 10 == 0:\n",
        "            print(f\"Intermediate fine-tuning at Epoch {epoch + 1}\")\n",
        "            for inputs, targets in retain_loader:\n",
        "                inputs, targets = inputs.to(DEVICE), targets.to(DEVICE)\n",
        "\n",
        "                optimizer.zero_grad()\n",
        "                outputs = net(inputs)\n",
        "                loss = criterion(outputs, targets)\n",
        "                loss.backward()\n",
        "                optimizer.step()\n",
        "\n",
        "        # Evaluate accuracies\n",
        "        retain_acc = evaluate_accuracy(net, retain_loader)\n",
        "        forget_acc = evaluate_accuracy(net, forget_loader)\n",
        "        val_acc = evaluate_accuracy(net, val_loader)\n",
        "\n",
        "        # Store accuracies\n",
        "        retain_accuracies.append(retain_acc * 100)  # Convert to percentage\n",
        "        forget_accuracies.append(forget_acc * 100)\n",
        "        validation_accuracies.append(val_acc * 100)\n",
        "\n",
        "        print(f\"Epoch [{epoch + 1}/{epochs}] completed with reverse_scale={reverse_scale:.3f}, \"\n",
        "              f\"Retain Acc: {retain_acc * 100:.2f}%, Forget Acc: {forget_acc * 100:.2f}%, \"\n",
        "              f\"Validation Acc: {val_acc * 100:.2f}%\")\n",
        "\n",
        "        # Save best model based on validation accuracy\n",
        "        if val_acc > best_val_acc:\n",
        "            best_val_acc = val_acc\n",
        "            best_model = net.state_dict()\n",
        "\n",
        "    # Load the best model\n",
        "    net.load_state_dict(best_model)\n",
        "\n",
        "    # Final fine-tuning phase on retain set\n",
        "    print(\"Final fine-tuning on retain set...\")\n",
        "    for epoch in range(fine_tune_epochs):\n",
        "        net.train()\n",
        "        running_loss = 0.0\n",
        "        for inputs, targets in retain_loader:\n",
        "            inputs, targets = inputs.to(DEVICE), targets.to(DEVICE)\n",
        "\n",
        "            optimizer.zero_grad()\n",
        "            outputs = net(inputs)\n",
        "            loss = criterion(outputs, targets)\n",
        "            loss.backward()\n",
        "            optimizer.step()\n",
        "            running_loss += loss.item()\n",
        "\n",
        "        print(f\"Fine-tune Epoch [{epoch + 1}/{fine_tune_epochs}], Loss: {running_loss / len(retain_loader):.4f}\")\n",
        "\n",
        "    # Return model and metrics\n",
        "    metrics = {\n",
        "        \"retain_accuracies\": retain_accuracies,\n",
        "        \"forget_accuracies\": forget_accuracies,\n",
        "        \"validation_accuracies\": validation_accuracies,\n",
        "    }\n",
        "    return net, metrics\n",
        "\n",
        "# Train the refined hybrid model\n",
        "model_refined_hybrid, metrics = refined_hybrid_unlearning(\n",
        "    model, retain_loader, forget_loader, val_loader, epochs=50, max_reverse_scale=-1.0, fine_tune_epochs=10\n",
        ")\n",
        "\n",
        "# Unpack metrics\n",
        "retain_accuracies = metrics[\"retain_accuracies\"]\n",
        "forget_accuracies = metrics[\"forget_accuracies\"]\n",
        "validation_accuracies = metrics[\"validation_accuracies\"]\n"
      ],
      "metadata": {
        "colab": {
          "base_uri": "https://localhost:8080/"
        },
        "id": "7aXh0kazmeEb",
        "outputId": "340fc8ba-0320-4b5f-b348-ce509d21d371"
      },
      "execution_count": null,
      "outputs": [
        {
          "output_type": "stream",
          "name": "stdout",
          "text": [
            "Starting refined hybrid unlearning...\n",
            "Epoch [1/50] completed with reverse_scale=-0.000, Retain Acc: 100.00%, Forget Acc: 71.98%, Validation Acc: 85.22%\n",
            "Epoch [2/50] completed with reverse_scale=-0.000, Retain Acc: 100.00%, Forget Acc: 71.82%, Validation Acc: 85.16%\n",
            "Epoch [3/50] completed with reverse_scale=-0.002, Retain Acc: 100.00%, Forget Acc: 71.66%, Validation Acc: 85.44%\n",
            "Epoch [4/50] completed with reverse_scale=-0.004, Retain Acc: 100.00%, Forget Acc: 71.46%, Validation Acc: 85.18%\n",
            "Epoch [5/50] completed with reverse_scale=-0.006, Retain Acc: 100.00%, Forget Acc: 71.42%, Validation Acc: 85.38%\n",
            "Epoch [6/50] completed with reverse_scale=-0.010, Retain Acc: 100.00%, Forget Acc: 70.92%, Validation Acc: 85.14%\n",
            "Epoch [7/50] completed with reverse_scale=-0.014, Retain Acc: 100.00%, Forget Acc: 70.58%, Validation Acc: 84.92%\n",
            "Epoch [8/50] completed with reverse_scale=-0.020, Retain Acc: 100.00%, Forget Acc: 70.14%, Validation Acc: 85.28%\n",
            "Epoch [9/50] completed with reverse_scale=-0.026, Retain Acc: 99.99%, Forget Acc: 69.86%, Validation Acc: 85.12%\n",
            "Intermediate fine-tuning at Epoch 10\n",
            "Epoch [10/50] completed with reverse_scale=-0.032, Retain Acc: 99.95%, Forget Acc: 69.40%, Validation Acc: 84.94%\n",
            "Epoch [11/50] completed with reverse_scale=-0.040, Retain Acc: 99.97%, Forget Acc: 69.16%, Validation Acc: 84.76%\n",
            "Epoch [12/50] completed with reverse_scale=-0.048, Retain Acc: 99.94%, Forget Acc: 68.60%, Validation Acc: 84.38%\n",
            "Epoch [13/50] completed with reverse_scale=-0.058, Retain Acc: 99.92%, Forget Acc: 68.34%, Validation Acc: 84.80%\n",
            "Epoch [14/50] completed with reverse_scale=-0.068, Retain Acc: 99.94%, Forget Acc: 67.54%, Validation Acc: 84.78%\n",
            "Epoch [15/50] completed with reverse_scale=-0.078, Retain Acc: 99.92%, Forget Acc: 66.30%, Validation Acc: 84.50%\n",
            "Epoch [16/50] completed with reverse_scale=-0.090, Retain Acc: 99.94%, Forget Acc: 66.38%, Validation Acc: 84.60%\n",
            "Epoch [17/50] completed with reverse_scale=-0.102, Retain Acc: 99.94%, Forget Acc: 65.32%, Validation Acc: 84.28%\n",
            "Epoch [18/50] completed with reverse_scale=-0.116, Retain Acc: 99.90%, Forget Acc: 65.22%, Validation Acc: 84.60%\n",
            "Epoch [19/50] completed with reverse_scale=-0.130, Retain Acc: 99.94%, Forget Acc: 64.58%, Validation Acc: 85.06%\n",
            "Intermediate fine-tuning at Epoch 20\n",
            "Epoch [20/50] completed with reverse_scale=-0.144, Retain Acc: 99.99%, Forget Acc: 64.02%, Validation Acc: 84.78%\n",
            "Epoch [21/50] completed with reverse_scale=-0.160, Retain Acc: 99.94%, Forget Acc: 63.12%, Validation Acc: 84.84%\n",
            "Epoch [22/50] completed with reverse_scale=-0.176, Retain Acc: 99.95%, Forget Acc: 62.14%, Validation Acc: 84.64%\n",
            "Epoch [23/50] completed with reverse_scale=-0.194, Retain Acc: 99.90%, Forget Acc: 62.64%, Validation Acc: 84.70%\n",
            "Epoch [24/50] completed with reverse_scale=-0.212, Retain Acc: 99.32%, Forget Acc: 67.22%, Validation Acc: 83.98%\n",
            "Epoch [25/50] completed with reverse_scale=-0.230, Retain Acc: 99.36%, Forget Acc: 67.24%, Validation Acc: 84.02%\n",
            "Epoch [26/50] completed with reverse_scale=-0.250, Retain Acc: 92.98%, Forget Acc: 71.74%, Validation Acc: 80.86%\n",
            "Epoch [27/50] completed with reverse_scale=-0.270, Retain Acc: 97.62%, Forget Acc: 70.60%, Validation Acc: 83.72%\n",
            "Epoch [28/50] completed with reverse_scale=-0.292, Retain Acc: 99.06%, Forget Acc: 68.08%, Validation Acc: 84.30%\n",
            "Epoch [29/50] completed with reverse_scale=-0.314, Retain Acc: 97.54%, Forget Acc: 69.18%, Validation Acc: 83.42%\n",
            "Intermediate fine-tuning at Epoch 30\n",
            "Epoch [30/50] completed with reverse_scale=-0.336, Retain Acc: 99.33%, Forget Acc: 68.92%, Validation Acc: 83.28%\n",
            "Epoch [31/50] completed with reverse_scale=-0.360, Retain Acc: 88.90%, Forget Acc: 72.80%, Validation Acc: 78.24%\n",
            "Epoch [32/50] completed with reverse_scale=-0.384, Retain Acc: 96.16%, Forget Acc: 71.14%, Validation Acc: 82.04%\n",
            "Epoch [33/50] completed with reverse_scale=-0.410, Retain Acc: 95.76%, Forget Acc: 70.20%, Validation Acc: 82.44%\n",
            "Epoch [34/50] completed with reverse_scale=-0.436, Retain Acc: 93.90%, Forget Acc: 69.28%, Validation Acc: 81.30%\n",
            "Epoch [35/50] completed with reverse_scale=-0.462, Retain Acc: 85.46%, Forget Acc: 69.92%, Validation Acc: 76.24%\n",
            "Epoch [36/50] completed with reverse_scale=-0.490, Retain Acc: 93.27%, Forget Acc: 69.38%, Validation Acc: 79.92%\n",
            "Epoch [37/50] completed with reverse_scale=-0.518, Retain Acc: 88.13%, Forget Acc: 69.02%, Validation Acc: 77.68%\n",
            "Epoch [38/50] completed with reverse_scale=-0.548, Retain Acc: 92.88%, Forget Acc: 68.94%, Validation Acc: 80.42%\n",
            "Epoch [39/50] completed with reverse_scale=-0.578, Retain Acc: 72.56%, Forget Acc: 64.40%, Validation Acc: 68.20%\n",
            "Intermediate fine-tuning at Epoch 40\n",
            "Epoch [40/50] completed with reverse_scale=-0.608, Retain Acc: 88.79%, Forget Acc: 70.56%, Validation Acc: 77.72%\n",
            "Epoch [41/50] completed with reverse_scale=-0.640, Retain Acc: 92.70%, Forget Acc: 67.88%, Validation Acc: 79.16%\n",
            "Epoch [42/50] completed with reverse_scale=-0.672, Retain Acc: 91.59%, Forget Acc: 69.80%, Validation Acc: 79.68%\n",
            "Epoch [43/50] completed with reverse_scale=-0.706, Retain Acc: 86.56%, Forget Acc: 67.82%, Validation Acc: 77.48%\n",
            "Epoch [44/50] completed with reverse_scale=-0.740, Retain Acc: 92.90%, Forget Acc: 66.06%, Validation Acc: 80.08%\n",
            "Epoch [45/50] completed with reverse_scale=-0.774, Retain Acc: 89.56%, Forget Acc: 65.34%, Validation Acc: 79.06%\n",
            "Epoch [46/50] completed with reverse_scale=-0.810, Retain Acc: 69.31%, Forget Acc: 63.90%, Validation Acc: 65.82%\n",
            "Epoch [47/50] completed with reverse_scale=-0.846, Retain Acc: 77.95%, Forget Acc: 66.04%, Validation Acc: 71.98%\n",
            "Epoch [48/50] completed with reverse_scale=-0.884, Retain Acc: 82.68%, Forget Acc: 67.12%, Validation Acc: 75.38%\n",
            "Epoch [49/50] completed with reverse_scale=-0.922, Retain Acc: 85.93%, Forget Acc: 66.62%, Validation Acc: 76.26%\n",
            "Intermediate fine-tuning at Epoch 50\n",
            "Epoch [50/50] completed with reverse_scale=-0.960, Retain Acc: 91.29%, Forget Acc: 66.80%, Validation Acc: 78.86%\n",
            "Final fine-tuning on retain set...\n",
            "Fine-tune Epoch [1/10], Loss: 0.2895\n",
            "Fine-tune Epoch [2/10], Loss: 0.2186\n",
            "Fine-tune Epoch [3/10], Loss: 0.1612\n",
            "Fine-tune Epoch [4/10], Loss: 0.1154\n",
            "Fine-tune Epoch [5/10], Loss: 0.0763\n",
            "Fine-tune Epoch [6/10], Loss: 0.0559\n",
            "Fine-tune Epoch [7/10], Loss: 0.0349\n",
            "Fine-tune Epoch [8/10], Loss: 0.0265\n",
            "Fine-tune Epoch [9/10], Loss: 0.0227\n",
            "Fine-tune Epoch [10/10], Loss: 0.0162\n"
          ]
        }
      ]
    },
    {
      "cell_type": "code",
      "source": [
        "# Evaluate final accuracies on each dataset\n",
        "final_retain_acc = evaluate_accuracy(model_refined_hybrid, retain_loader) * 100\n",
        "final_forget_acc = evaluate_accuracy(model_refined_hybrid, forget_loader) * 100\n",
        "final_val_acc = evaluate_accuracy(model_refined_hybrid, val_loader) * 100\n",
        "final_test_acc = evaluate_accuracy(model_refined_hybrid, test_loader) * 100  # Assuming you have a test_loader\n",
        "\n",
        "# Print final accuracies\n",
        "print(f\"Final Retain Accuracy: {final_retain_acc:.2f}%\")\n",
        "print(f\"Final Forget Accuracy: {final_forget_acc:.2f}%\")\n",
        "print(f\"Final Validation Accuracy: {final_val_acc:.2f}%\")\n",
        "print(f\"Final Test Accuracy: {final_test_acc:.2f}%\")"
      ],
      "metadata": {
        "colab": {
          "base_uri": "https://localhost:8080/"
        },
        "id": "6r4qbCHnTVbC",
        "outputId": "0901d539-b4f2-4809-aecf-0cff5c202f72"
      },
      "execution_count": null,
      "outputs": [
        {
          "output_type": "stream",
          "name": "stdout",
          "text": [
            "Final Retain Accuracy: 98.42%\n",
            "Final Forget Accuracy: 66.64%\n",
            "Final Validation Accuracy: 78.88%\n",
            "Final Test Accuracy: 78.02%\n"
          ]
        }
      ]
    },
    {
      "cell_type": "code",
      "source": [
        "print(f\"Retain Accuracies: {retain_accuracies}\")\n",
        "print(f\"Forget Accuracies: {forget_accuracies}\")\n",
        "print(f\"Validation Accuracies: {validation_accuracies}\")"
      ],
      "metadata": {
        "colab": {
          "base_uri": "https://localhost:8080/"
        },
        "id": "YVyBI6huPpuJ",
        "outputId": "826ab3ab-70f3-4f51-8271-ef97d7342663"
      },
      "execution_count": null,
      "outputs": [
        {
          "output_type": "stream",
          "name": "stdout",
          "text": [
            "Retain Accuracies: [100.0, 100.0, 100.0, 100.0, 100.0, 100.0, 99.99555555555555, 99.99777777777777, 99.98666666666666, 99.95111111111112, 99.97333333333333, 99.94, 99.92444444444445, 99.94, 99.91777777777779, 99.93777777777778, 99.94444444444444, 99.89555555555556, 99.94444444444444, 99.99111111111111, 99.93555555555555, 99.95111111111112, 99.89777777777778, 99.31777777777778, 99.36222222222221, 92.98444444444445, 97.61999999999999, 99.06, 97.53555555555555, 99.33111111111111, 88.9, 96.16222222222223, 95.75555555555556, 93.89555555555556, 85.46444444444444, 93.26666666666667, 88.13333333333333, 92.88444444444444, 72.55777777777777, 88.78888888888888, 92.70222222222222, 91.59333333333333, 86.55555555555556, 92.89777777777778, 89.56, 69.30888888888889, 77.95111111111112, 82.68444444444445, 85.92888888888889, 91.29333333333334]\n",
            "Forget Accuracies: [71.98, 71.82, 71.66, 71.46000000000001, 71.41999999999999, 70.92, 70.58, 70.14, 69.86, 69.39999999999999, 69.16, 68.60000000000001, 68.34, 67.54, 66.3, 66.38, 65.32, 65.22, 64.58, 64.02, 63.12, 62.13999999999999, 62.63999999999999, 67.22, 67.24, 71.74000000000001, 70.6, 68.08, 69.17999999999999, 68.92, 72.8, 71.14, 70.19999999999999, 69.28, 69.92, 69.38, 69.02000000000001, 68.94, 64.4, 70.56, 67.88, 69.8, 67.82000000000001, 66.06, 65.34, 63.9, 66.03999999999999, 67.12, 66.62, 66.8]\n",
            "Validation Accuracies: [85.22, 85.16, 85.44, 85.18, 85.38, 85.14, 84.92, 85.28, 85.11999999999999, 84.94, 84.76, 84.38, 84.8, 84.78, 84.5, 84.6, 84.28, 84.6, 85.06, 84.78, 84.84, 84.64, 84.7, 83.98, 84.02, 80.86, 83.72, 84.3, 83.42, 83.28, 78.24, 82.04, 82.44, 81.3, 76.24, 79.92, 77.68, 80.42, 68.2, 77.72, 79.16, 79.67999999999999, 77.48, 80.08, 79.06, 65.82000000000001, 71.98, 75.38, 76.25999999999999, 78.86]\n"
          ]
        }
      ]
    },
    {
      "cell_type": "markdown",
      "source": [
        "###Retain vs Forget Accuracy\n",
        "Demonstrates how well the model balances retaining critical knowledge while forgetting unwanted information."
      ],
      "metadata": {
        "id": "lYnANGs5R1l_"
      }
    },
    {
      "cell_type": "code",
      "source": [
        "import matplotlib.pyplot as plt\n",
        "\n",
        "# Plot Retain vs Forget Accuracy\n",
        "plt.figure(figsize=(10, 6))\n",
        "plt.plot(range(1, len(retain_accuracies) + 1), retain_accuracies, label=\"Retain Accuracy\", color=\"blue\", marker=\"o\")\n",
        "plt.plot(range(1, len(forget_accuracies) + 1), forget_accuracies, label=\"Forget Accuracy\", color=\"orange\", marker=\"x\")\n",
        "plt.xlabel(\"Epochs\")\n",
        "plt.ylabel(\"Accuracy (%)\")\n",
        "plt.title(\"Retain vs Forget Accuracy\")\n",
        "plt.legend()\n",
        "plt.grid(True)\n",
        "plt.show()\n"
      ],
      "metadata": {
        "colab": {
          "base_uri": "https://localhost:8080/",
          "height": 564
        },
        "id": "boSWIUYsRyst",
        "outputId": "25a7b0ee-5919-484f-f78a-d638e804f449"
      },
      "execution_count": null,
      "outputs": [
        {
          "output_type": "display_data",
          "data": {
            "text/plain": [
              "<Figure size 1000x600 with 1 Axes>"
            ],
            "image/png": "[encoded data removed]"
          },
          "metadata": {}
        }
      ]
    },
    {
      "cell_type": "markdown",
      "source": [
        "###Validation Accuracy Over Epochs\n",
        "Shows the model's generalization capabilities and stability during training."
      ],
      "metadata": {
        "id": "SUDHIvU5R2_9"
      }
    },
    {
      "cell_type": "code",
      "source": [
        "# Plot Validation Accuracy\n",
        "plt.figure(figsize=(10, 6))\n",
        "plt.plot(range(1, len(validation_accuracies) + 1), validation_accuracies, label=\"Validation Accuracy\", color=\"green\", marker=\"o\")\n",
        "plt.xlabel(\"Epochs\")\n",
        "plt.ylabel(\"Accuracy (%)\")\n",
        "plt.title(\"Validation Accuracy Over Epochs\")\n",
        "plt.legend()\n",
        "plt.grid(True)\n",
        "plt.show()\n"
      ],
      "metadata": {
        "colab": {
          "base_uri": "https://localhost:8080/",
          "height": 564
        },
        "id": "MYuRO0gKSGxo",
        "outputId": "73ffaa6d-1c5c-4fd5-cddf-7b4ab9ad08ef"
      },
      "execution_count": null,
      "outputs": [
        {
          "output_type": "display_data",
          "data": {
            "text/plain": [
              "<Figure size 1000x600 with 1 Axes>"
            ],
            "image/png": "[encoded data removed]"
          },
          "metadata": {}
        }
      ]
    },
    {
      "cell_type": "markdown",
      "source": [
        "### Accuracy Gap (Retain - Forget)\n",
        "Highlights the difference between retain and forget accuracies, indicating the model's ability to selectively unlearn."
      ],
      "metadata": {
        "id": "Dqb-xP5iSIFT"
      }
    },
    {
      "cell_type": "code",
      "source": [
        "# Calculate Accuracy Gap\n",
        "accuracy_gap = [r - f for r, f in zip(retain_accuracies, forget_accuracies)]\n",
        "\n",
        "# Plot Accuracy Gap\n",
        "plt.figure(figsize=(10, 6))\n",
        "plt.plot(range(1, len(accuracy_gap) + 1), accuracy_gap, label=\"Retain - Forget Accuracy Gap\", color=\"purple\", marker=\"s\")\n",
        "plt.xlabel(\"Epochs\")\n",
        "plt.ylabel(\"Accuracy Gap (%)\")\n",
        "plt.title(\"Retain - Forget Accuracy Gap Over Epochs\")\n",
        "plt.legend()\n",
        "plt.grid(True)\n",
        "plt.show()\n"
      ],
      "metadata": {
        "colab": {
          "base_uri": "https://localhost:8080/",
          "height": 564
        },
        "id": "sScitzlkSOOx",
        "outputId": "b38330d1-c358-4ce0-c822-a60ed755e394"
      },
      "execution_count": null,
      "outputs": [
        {
          "output_type": "display_data",
          "data": {
            "text/plain": [
              "<Figure size 1000x600 with 1 Axes>"
            ],
            "image/png": "[encoded data removed]"
          },
          "metadata": {}
        }
      ]
    },
    {
      "cell_type": "markdown",
      "source": [
        "### Reverse Scale Factor Over Epochs\n",
        "Provides insight into how gradient reversal strength changes dynamically during training."
      ],
      "metadata": {
        "id": "NCFsg0O9SV3J"
      }
    },
    {
      "cell_type": "code",
      "source": [
        "# Calculate Reverse Scale Factors (assuming exponential scaling)\n",
        "reverse_scales = [-1.0 * (epoch / 50) ** 2 for epoch in range(1, 51)]\n",
        "\n",
        "# Plot Reverse Scale Factor\n",
        "plt.figure(figsize=(10, 6))\n",
        "plt.plot(range(1, len(reverse_scales) + 1), reverse_scales, label=\"Reverse Scale Factor\", color=\"red\", linestyle=\"--\")\n",
        "plt.xlabel(\"Epochs\")\n",
        "plt.ylabel(\"Reverse Scale Factor\")\n",
        "plt.title(\"Dynamic Reverse Scale Factor Over Epochs\")\n",
        "plt.legend()\n",
        "plt.grid(True)\n",
        "plt.show()\n"
      ],
      "metadata": {
        "colab": {
          "base_uri": "https://localhost:8080/",
          "height": 564
        },
        "id": "0zH0mp3xSVW_",
        "outputId": "7da2ab05-1d71-4c1f-d89c-d3611364ad46"
      },
      "execution_count": null,
      "outputs": [
        {
          "output_type": "display_data",
          "data": {
            "text/plain": [
              "<Figure size 1000x600 with 1 Axes>"
            ],
            "image/png": "[encoded data removed]"
          },
          "metadata": {}
        }
      ]
    },
    {
      "cell_type": "markdown",
      "source": [
        "###Retain Accuracy During Final Fine-Tuning\n",
        "Demonstrates how fine-tuning improves the retain set accuracy, reinforcing the model's knowledge retention."
      ],
      "metadata": {
        "id": "q0WI2yzdScZI"
      }
    },
    {
      "cell_type": "code",
      "source": [
        "# Example Loss During Fine-Tuning (replace with actual values)\n",
        "fine_tune_losses = [0.0503, 0.0243, 0.0143, 0.0098, 0.0066, 0.0054, 0.0041, 0.0038, 0.0031, 0.0024]\n",
        "\n",
        "# Plot Fine-Tuning Loss\n",
        "plt.figure(figsize=(10, 6))\n",
        "plt.plot(range(1, len(fine_tune_losses) + 1), fine_tune_losses, label=\"Fine-Tuning Loss\", color=\"green\", marker=\"o\")\n",
        "plt.xlabel(\"Fine-Tuning Epochs\")\n",
        "plt.ylabel(\"Loss\")\n",
        "plt.title(\"Loss During Final Fine-Tuning\")\n",
        "plt.legend()\n",
        "plt.grid(True)\n",
        "plt.show()\n"
      ],
      "metadata": {
        "colab": {
          "base_uri": "https://localhost:8080/",
          "height": 564
        },
        "id": "eCszlop3ShRT",
        "outputId": "96b22abb-4e09-46ab-fdf0-4a642156385c"
      },
      "execution_count": null,
      "outputs": [
        {
          "output_type": "display_data",
          "data": {
            "text/plain": [
              "<Figure size 1000x600 with 1 Axes>"
            ],
            "image/png": "[encoded data removed]"
          },
          "metadata": {}
        }
      ]
    },
    {
      "cell_type": "markdown",
      "source": [
        "### Combined Insights\n",
        "For a holistic overview, you can combine validation accuracy, retain accuracy, and forget accuracy in one plot."
      ],
      "metadata": {
        "id": "6wgetqsWSktQ"
      }
    },
    {
      "cell_type": "code",
      "source": [
        "# Plot Combined Metrics\n",
        "plt.figure(figsize=(12, 8))\n",
        "plt.plot(range(1, len(retain_accuracies) + 1), retain_accuracies, label=\"Retain Accuracy\", color=\"blue\", marker=\"o\")\n",
        "plt.plot(range(1, len(forget_accuracies) + 1), forget_accuracies, label=\"Forget Accuracy\", color=\"orange\", marker=\"x\")\n",
        "plt.plot(range(1, len(validation_accuracies) + 1), validation_accuracies, label=\"Validation Accuracy\", color=\"green\", marker=\"s\")\n",
        "plt.xlabel(\"Epochs\")\n",
        "plt.ylabel(\"Accuracy (%)\")\n",
        "plt.title(\"Retain, Forget, and Validation Accuracy Over Epochs\")\n",
        "plt.legend()\n",
        "plt.grid(True)\n",
        "plt.show()\n"
      ],
      "metadata": {
        "colab": {
          "base_uri": "https://localhost:8080/",
          "height": 652
        },
        "id": "s8XwklzwSq7f",
        "outputId": "c3a06f11-d0c5-4895-e710-8beb043b6ce6"
      },
      "execution_count": null,
      "outputs": [
        {
          "output_type": "display_data",
          "data": {
            "text/plain": [
              "<Figure size 1200x800 with 1 Axes>"
            ],
            "image/png": "[encoded data removed]"
          },
          "metadata": {}
        }
      ]
    },
    {
      "cell_type": "code",
      "source": [],
      "metadata": {
        "id": "d6XjGWn8OUh0"
      },
      "execution_count": null,
      "outputs": []
    }
  ]
}